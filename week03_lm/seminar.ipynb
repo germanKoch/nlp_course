{
 "cells": [
  {
   "cell_type": "markdown",
   "metadata": {
    "cellId": "k1gpzj4guo8e1riwj3om1k"
   },
   "source": [
    "### N-gram language models or how to write scientific papers (4 pts)\n",
    "\n",
    "We shall train our language model on a corpora of [ArXiv](http://arxiv.org/) articles and see if we can generate a new one!\n",
    "\n",
    "![img](https://media.npr.org/assets/img/2013/12/10/istock-18586699-monkey-computer_brick-16e5064d3378a14e0e4c2da08857efe03c04695e-s800-c85.jpg)\n",
    "\n",
    "_data by neelshah18 from [here](https://www.kaggle.com/neelshah18/arxivdataset/)_\n",
    "\n",
    "_Disclaimer: this has nothing to do with actual science. But it's fun, so who cares?!_"
   ]
  },
  {
   "cell_type": "code",
   "execution_count": 1,
   "metadata": {
    "cellId": "u8jdaiy68oib3jvr4k01"
   },
   "outputs": [],
   "source": [
    "import numpy as np\n",
    "import pandas as pd\n",
    "import matplotlib.pyplot as plt\n",
    "%matplotlib inline"
   ]
  },
  {
   "cell_type": "code",
   "execution_count": 2,
   "metadata": {
    "cellId": "0c76vnyl3zui9yhtkodgrlf"
   },
   "outputs": [
    {
     "data": {
      "text/html": [
       "<div>\n",
       "<style scoped>\n",
       "    .dataframe tbody tr th:only-of-type {\n",
       "        vertical-align: middle;\n",
       "    }\n",
       "\n",
       "    .dataframe tbody tr th {\n",
       "        vertical-align: top;\n",
       "    }\n",
       "\n",
       "    .dataframe thead th {\n",
       "        text-align: right;\n",
       "    }\n",
       "</style>\n",
       "<table border=\"1\" class=\"dataframe\">\n",
       "  <thead>\n",
       "    <tr style=\"text-align: right;\">\n",
       "      <th></th>\n",
       "      <th>author</th>\n",
       "      <th>day</th>\n",
       "      <th>id</th>\n",
       "      <th>link</th>\n",
       "      <th>month</th>\n",
       "      <th>summary</th>\n",
       "      <th>tag</th>\n",
       "      <th>title</th>\n",
       "      <th>year</th>\n",
       "    </tr>\n",
       "  </thead>\n",
       "  <tbody>\n",
       "    <tr>\n",
       "      <th>35530</th>\n",
       "      <td>[{'name': 'Juan Ojeda Sarmiento'}]</td>\n",
       "      <td>14</td>\n",
       "      <td>0809.2421v5</td>\n",
       "      <td>[{'rel': 'alternate', 'href': 'http://arxiv.or...</td>\n",
       "      <td>9</td>\n",
       "      <td>This project describes the electricity demand ...</td>\n",
       "      <td>[{'term': 'cs.AI', 'scheme': 'http://arxiv.org...</td>\n",
       "      <td>Electricity Demand and Energy Consumption Mana...</td>\n",
       "      <td>2008</td>\n",
       "    </tr>\n",
       "    <tr>\n",
       "      <th>38328</th>\n",
       "      <td>[{'name': 'Ryan J. Gallagher'}, {'name': 'Andr...</td>\n",
       "      <td>22</td>\n",
       "      <td>1606.06820v5</td>\n",
       "      <td>[{'rel': 'alternate', 'href': 'http://arxiv.or...</td>\n",
       "      <td>6</td>\n",
       "      <td>Since the shooting of Black teenager Michael B...</td>\n",
       "      <td>[{'term': 'cs.CL', 'scheme': 'http://arxiv.org...</td>\n",
       "      <td>Divergent discourse between protests and count...</td>\n",
       "      <td>2016</td>\n",
       "    </tr>\n",
       "    <tr>\n",
       "      <th>10287</th>\n",
       "      <td>[{'name': 'Ping Li'}, {'name': 'Joshua Moore'}...</td>\n",
       "      <td>23</td>\n",
       "      <td>1105.4385v1</td>\n",
       "      <td>[{'rel': 'alternate', 'href': 'http://arxiv.or...</td>\n",
       "      <td>5</td>\n",
       "      <td>In this paper, we propose to (seamlessly) inte...</td>\n",
       "      <td>[{'term': 'cs.LG', 'scheme': 'http://arxiv.org...</td>\n",
       "      <td>b-Bit Minwise Hashing for Large-Scale Linear SVM</td>\n",
       "      <td>2011</td>\n",
       "    </tr>\n",
       "    <tr>\n",
       "      <th>32211</th>\n",
       "      <td>[{'name': 'Ronald Ortner'}, {'name': 'Daniil R...</td>\n",
       "      <td>11</td>\n",
       "      <td>1302.2550v1</td>\n",
       "      <td>[{'rel': 'alternate', 'href': 'http://arxiv.or...</td>\n",
       "      <td>2</td>\n",
       "      <td>We derive sublinear regret bounds for undiscou...</td>\n",
       "      <td>[{'term': 'cs.LG', 'scheme': 'http://arxiv.org...</td>\n",
       "      <td>Online Regret Bounds for Undiscounted Continuo...</td>\n",
       "      <td>2013</td>\n",
       "    </tr>\n",
       "    <tr>\n",
       "      <th>40506</th>\n",
       "      <td>[{'name': 'Konstantinos Chorianopoulos'}, {'na...</td>\n",
       "      <td>27</td>\n",
       "      <td>1204.6325v2</td>\n",
       "      <td>[{'rel': 'alternate', 'href': 'http://arxiv.or...</td>\n",
       "      <td>4</td>\n",
       "      <td>We explore the design of a seamless broadcast ...</td>\n",
       "      <td>[{'term': 'cs.HC', 'scheme': 'http://arxiv.org...</td>\n",
       "      <td>CELL: Connecting Everyday Life in an archipeLago</td>\n",
       "      <td>2012</td>\n",
       "    </tr>\n",
       "  </tbody>\n",
       "</table>\n",
       "</div>"
      ],
      "text/plain": [
       "                                                  author  day            id  \\\n",
       "35530                 [{'name': 'Juan Ojeda Sarmiento'}]   14   0809.2421v5   \n",
       "38328  [{'name': 'Ryan J. Gallagher'}, {'name': 'Andr...   22  1606.06820v5   \n",
       "10287  [{'name': 'Ping Li'}, {'name': 'Joshua Moore'}...   23   1105.4385v1   \n",
       "32211  [{'name': 'Ronald Ortner'}, {'name': 'Daniil R...   11   1302.2550v1   \n",
       "40506  [{'name': 'Konstantinos Chorianopoulos'}, {'na...   27   1204.6325v2   \n",
       "\n",
       "                                                    link  month  \\\n",
       "35530  [{'rel': 'alternate', 'href': 'http://arxiv.or...      9   \n",
       "38328  [{'rel': 'alternate', 'href': 'http://arxiv.or...      6   \n",
       "10287  [{'rel': 'alternate', 'href': 'http://arxiv.or...      5   \n",
       "32211  [{'rel': 'alternate', 'href': 'http://arxiv.or...      2   \n",
       "40506  [{'rel': 'alternate', 'href': 'http://arxiv.or...      4   \n",
       "\n",
       "                                                 summary  \\\n",
       "35530  This project describes the electricity demand ...   \n",
       "38328  Since the shooting of Black teenager Michael B...   \n",
       "10287  In this paper, we propose to (seamlessly) inte...   \n",
       "32211  We derive sublinear regret bounds for undiscou...   \n",
       "40506  We explore the design of a seamless broadcast ...   \n",
       "\n",
       "                                                     tag  \\\n",
       "35530  [{'term': 'cs.AI', 'scheme': 'http://arxiv.org...   \n",
       "38328  [{'term': 'cs.CL', 'scheme': 'http://arxiv.org...   \n",
       "10287  [{'term': 'cs.LG', 'scheme': 'http://arxiv.org...   \n",
       "32211  [{'term': 'cs.LG', 'scheme': 'http://arxiv.org...   \n",
       "40506  [{'term': 'cs.HC', 'scheme': 'http://arxiv.org...   \n",
       "\n",
       "                                                   title  year  \n",
       "35530  Electricity Demand and Energy Consumption Mana...  2008  \n",
       "38328  Divergent discourse between protests and count...  2016  \n",
       "10287   b-Bit Minwise Hashing for Large-Scale Linear SVM  2011  \n",
       "32211  Online Regret Bounds for Undiscounted Continuo...  2013  \n",
       "40506   CELL: Connecting Everyday Life in an archipeLago  2012  "
      ]
     },
     "execution_count": 2,
     "metadata": {},
     "output_type": "execute_result"
    }
   ],
   "source": [
    "# Alternative manual download link: https://yadi.sk/d/_nGyU2IajjR9-w\n",
    "data = pd.read_json(\"./arxivData.json\")\n",
    "data.sample(n=5)"
   ]
  },
  {
   "cell_type": "code",
   "execution_count": 3,
   "metadata": {
    "cellId": "lbyqb5rx7j8jpo591r06ak"
   },
   "outputs": [
    {
     "data": {
      "text/plain": [
       "['Differential Contrastive Divergence ; This paper has been retracted.',\n",
       " 'What Does Artificial Life Tell Us About Death? ; Short philosophical essay',\n",
       " 'P=NP ; We claim to resolve the P=?NP problem via a formal argument for P=NP.']"
      ]
     },
     "execution_count": 3,
     "metadata": {},
     "output_type": "execute_result"
    }
   ],
   "source": [
    "# assemble lines: concatenate title and description\n",
    "lines = data.apply(lambda row: row['title'] + ' ; ' + row['summary'].replace(\"\\n\", ' '), axis=1).tolist()\n",
    "\n",
    "sorted(lines, key=len)[:3]"
   ]
  },
  {
   "cell_type": "markdown",
   "metadata": {
    "cellId": "7u97m5s8ekl5zd5a43a1yc"
   },
   "source": [
    "### Tokenization\n",
    "\n",
    "You know the dril. The data is messy. Go clean the data. Use WordPunctTokenizer or something.\n"
   ]
  },
  {
   "cell_type": "code",
   "execution_count": 4,
   "metadata": {
    "cellId": "u8rvfk719iek97t3rarwr"
   },
   "outputs": [],
   "source": [
    "# Task: convert lines (in-place) into strings of space-separated tokens. Import & use WordPunctTokenizer\n",
    "\n",
    "from nltk.tokenize import WordPunctTokenizer\n",
    "\n",
    "tokenizer = WordPunctTokenizer()\n",
    "lines =[' '.join(tokenizer.tokenize(line)).lower() for line in lines]"
   ]
  },
  {
   "cell_type": "code",
   "execution_count": 5,
   "metadata": {
    "cellId": "w88nddpp2k8edoeyyyjh0l"
   },
   "outputs": [],
   "source": [
    "assert sorted(lines, key=len)[0] == \\\n",
    "    'differential contrastive divergence ; this paper has been retracted .'\n",
    "assert sorted(lines, key=len)[2] == \\\n",
    "    'p = np ; we claim to resolve the p =? np problem via a formal argument for p = np .'"
   ]
  },
  {
   "cell_type": "markdown",
   "metadata": {
    "cellId": "qb6h3hxmr095egzv8rlzul"
   },
   "source": [
    "### N-Gram Language Model (1point)\n",
    "\n",
    "A language model is a probabilistic model that estimates text probability: the joint probability of all tokens $w_t$ in text $X$: $P(X) = P(w_1, \\dots, w_T)$.\n",
    "\n",
    "It can do so by following the chain rule:\n",
    "$$P(w_1, \\dots, w_T) = P(w_1)P(w_2 \\mid w_1)\\dots P(w_T \\mid w_1, \\dots, w_{T-1}).$$ \n",
    "\n",
    "The problem with such approach is that the final term $P(w_T \\mid w_1, \\dots, w_{T-1})$ depends on $n-1$ previous words. This probability is impractical to estimate for long texts, e.g. $T = 1000$.\n",
    "\n",
    "One popular approximation is to assume that next word only depends on a finite amount of previous words:\n",
    "\n",
    "$$P(w_t \\mid w_1, \\dots, w_{t - 1}) = P(w_t \\mid w_{t - n + 1}, \\dots, w_{t - 1})$$\n",
    "\n",
    "Such model is called __n-gram language model__ where n is a parameter. For example, in 3-gram language model, each word only depends on 2 previous words. \n",
    "\n",
    "$$\n",
    "    P(w_1, \\dots, w_n) = \\prod_t P(w_t \\mid w_{t - n + 1}, \\dots, w_{t - 1}).\n",
    "$$\n",
    "\n",
    "You can also sometimes see such approximation under the name of _n-th order markov assumption_."
   ]
  },
  {
   "cell_type": "markdown",
   "metadata": {
    "cellId": "u68wydbiioqlp5gl96mhd"
   },
   "source": [
    "The first stage to building such a model is counting all word occurences given N-1 previous words"
   ]
  },
  {
   "cell_type": "code",
   "execution_count": 122,
   "metadata": {
    "cellId": "og84gjipnumsakhiiu9ap"
   },
   "outputs": [],
   "source": [
    "from tqdm import tqdm\n",
    "from collections import defaultdict, Counter\n",
    "\n",
    "# special tokens: \n",
    "# - `UNK` represents absent tokens, \n",
    "# - `EOS` is a special token after the end of sequence\n",
    "\n",
    "UNK, EOS = \"_UNK_\", \"_EOS_\"\n",
    "\n",
    "def count_ngrams(lines, n):\n",
    "    \"\"\"\n",
    "    Count how many times each word occured after (n - 1) previous words\n",
    "    :param lines: an iterable of strings with space-separated tokens\n",
    "    :returns: a dictionary { tuple(prefix_tokens): {next_token_1: count_1, next_token_2: count_2}}\n",
    "\n",
    "    When building counts, please consider the following two edge cases:\n",
    "    - if prefix is shorter than (n - 1) tokens, it should be padded with UNK. For n=3,\n",
    "      empty prefix: \"\" -> (UNK, UNK)\n",
    "      short prefix: \"the\" -> (UNK, the)\n",
    "      long prefix: \"the new approach\" -> (new, approach)\n",
    "    - you should add a special token, EOS, at the end of each sequence\n",
    "      \"... with deep neural networks .\" -> (..., with, deep, neural, networks, ., EOS)\n",
    "      count the probability of this token just like all others.\n",
    "    \"\"\"\n",
    "\n",
    "    def ngrams(n):\n",
    "        \"\"\"geenrator that returns ngrams\"\"\"\n",
    "        for line in lines:\n",
    "            line = (n - 1) * [UNK] + line.split() + [EOS]\n",
    "            for i in range(len(line) - n + 1):\n",
    "                yield tuple(line[i:i+n])\n",
    "\n",
    "    counts = defaultdict(Counter)\n",
    "\n",
    "    for ngram in ngrams(n):\n",
    "        prefix = ngram[:-1]\n",
    "        suffix = ngram[-1]\n",
    "        counts[prefix][suffix] += 1\n",
    "\n",
    "    return counts\n"
   ]
  },
  {
   "cell_type": "code",
   "execution_count": 7,
   "metadata": {
    "cellId": "xyf2he6lak9mmqarl3nck"
   },
   "outputs": [],
   "source": [
    "# let's test it\n",
    "dummy_lines = sorted(lines, key=len)[:100]\n",
    "dummy_counts = count_ngrams(dummy_lines, n=3)\n",
    "assert set(map(len, dummy_counts.keys())) == {2}, \"please only count {n-1}-grams\"\n",
    "assert len(dummy_counts[('_UNK_', '_UNK_')]) == 78\n",
    "assert dummy_counts['_UNK_', 'a']['note'] == 3\n",
    "assert dummy_counts['p', '=']['np'] == 2\n",
    "assert dummy_counts['author', '.']['_EOS_'] == 1"
   ]
  },
  {
   "cell_type": "markdown",
   "metadata": {
    "cellId": "4j620npeqvj0k8ak8xqx8xk"
   },
   "source": [
    "Once we can count N-grams, we can build a probabilistic language model.\n",
    "The simplest way to compute probabilities is in proporiton to counts:\n",
    "\n",
    "$$ P(w_t | prefix) = { Count(prefix, w_t) \\over \\sum_{\\hat w} Count(prefix, \\hat w) } $$"
   ]
  },
  {
   "cell_type": "code",
   "execution_count": 123,
   "metadata": {
    "cellId": "c7cm76wmzlaa12bctznzei"
   },
   "outputs": [],
   "source": [
    "class NGramLanguageModel:    \n",
    "    def __init__(self, lines, n):\n",
    "        \"\"\" \n",
    "        Train a simple count-based language model: \n",
    "        compute probabilities P(w_t | prefix) given ngram counts\n",
    "        \n",
    "        :param n: computes probability of next token given (n - 1) previous words\n",
    "        :param lines: an iterable of strings with space-separated tokens\n",
    "        \"\"\"\n",
    "        assert n >= 1\n",
    "        self.n = n\n",
    "    \n",
    "        counts = count_ngrams(lines, self.n)\n",
    "        \n",
    "        # compute token proabilities given counts\n",
    "        self.probs = defaultdict(Counter)\n",
    "        # probs[(word1, word2)][word3] = P(word3 | word1, word2)\n",
    "        \n",
    "        # populate self.probs with actual probabilities\n",
    "        for prefix, suffixes in counts.items():\n",
    "            total = sum(suffixes.values())\n",
    "            for suffix, count in suffixes.items():\n",
    "                self.probs[prefix][suffix] = count / total\n",
    "            \n",
    "    def get_possible_next_tokens(self, prefix):\n",
    "        \"\"\"\n",
    "        :param prefix: string with space-separated prefix tokens\n",
    "        :returns: a dictionary {token : it's probability} for all tokens with positive probabilities\n",
    "        \"\"\"\n",
    "        prefix = prefix.split()\n",
    "        prefix = prefix[max(0, len(prefix) - self.n + 1):]\n",
    "        prefix = [ UNK ] * (self.n - 1 - len(prefix)) + prefix\n",
    "        return self.probs[tuple(prefix)]\n",
    "    \n",
    "    def get_next_token_prob(self, prefix, next_token):\n",
    "        \"\"\"\n",
    "        :param prefix: string with space-separated prefix tokens\n",
    "        :param next_token: the next token to predict probability for\n",
    "        :returns: P(next_token|prefix) a single number, 0 <= P <= 1\n",
    "        \"\"\"\n",
    "        return self.get_possible_next_tokens(prefix).get(next_token, 0)"
   ]
  },
  {
   "cell_type": "markdown",
   "metadata": {
    "cellId": "0ftnn4nmuzrup6c0vvhb8q"
   },
   "source": [
    "Let's test it!"
   ]
  },
  {
   "cell_type": "code",
   "execution_count": 9,
   "metadata": {
    "cellId": "a7zajcnvhqupvcrmacvkur"
   },
   "outputs": [],
   "source": [
    "dummy_lm = NGramLanguageModel(dummy_lines, n=3)\n",
    "\n",
    "p_initial = dummy_lm.get_possible_next_tokens('') # '' -> ['_UNK_', '_UNK_']\n",
    "assert np.allclose(p_initial['learning'], 0.02)\n",
    "assert np.allclose(p_initial['a'], 0.13)\n",
    "assert np.allclose(p_initial.get('meow', 0), 0)\n",
    "assert np.allclose(sum(p_initial.values()), 1)\n",
    "\n",
    "p_a = dummy_lm.get_possible_next_tokens('a') # '' -> ['_UNK_', 'a']\n",
    "assert np.allclose(p_a['machine'], 0.15384615)\n",
    "assert np.allclose(p_a['note'], 0.23076923)\n",
    "assert np.allclose(p_a.get('the', 0), 0)\n",
    "assert np.allclose(sum(p_a.values()), 1)\n",
    "\n",
    "assert np.allclose(dummy_lm.get_possible_next_tokens('a note')['on'], 1)\n",
    "assert dummy_lm.get_possible_next_tokens('a machine') == \\\n",
    "    dummy_lm.get_possible_next_tokens(\"there have always been ghosts in a machine\"), \\\n",
    "    \"your 3-gram model should only depend on 2 previous words\""
   ]
  },
  {
   "cell_type": "markdown",
   "metadata": {
    "cellId": "oh8r9a41kuk4r51wra9"
   },
   "source": [
    "Now that you've got a working n-gram language model, let's see what sequences it can generate. But first, let's train it on the whole dataset."
   ]
  },
  {
   "cell_type": "code",
   "execution_count": 10,
   "metadata": {
    "cellId": "f17xoejjppmooo2nopw4xo"
   },
   "outputs": [],
   "source": [
    "lm = NGramLanguageModel(lines, n=3)"
   ]
  },
  {
   "cell_type": "code",
   "execution_count": 11,
   "metadata": {},
   "outputs": [],
   "source": [
    "next_tokens = lm.get_possible_next_tokens(\"the model is\")\n",
    "tokens = np.array(list(next_tokens.keys()))\n",
    "token_probs = np.array(list(next_tokens.values()))"
   ]
  },
  {
   "cell_type": "markdown",
   "metadata": {
    "cellId": "2kd9glwnkr470qc4bt7f1e"
   },
   "source": [
    "The process of generating sequences is... well, it's sequential. You maintain a list of tokens and iteratively add next token by sampling with probabilities.\n",
    "\n",
    "$ X = [] $\n",
    "\n",
    "__forever:__\n",
    "* $w_{next} \\sim P(w_{next} | X)$\n",
    "* $X = concat(X, w_{next})$\n",
    "\n",
    "\n",
    "Instead of sampling with probabilities, one can also try always taking most likely token, sampling among top-K most likely tokens or sampling with temperature. In the latter case (temperature), one samples from\n",
    "\n",
    "$$w_{next} \\sim {P(w_{next} | X) ^ {1 / \\tau} \\over \\sum_{\\hat w} P(\\hat w | X) ^ {1 / \\tau}}$$\n",
    "\n",
    "Where $\\tau > 0$ is model temperature. If $\\tau << 1$, more likely tokens will be sampled with even higher probability while less likely tokens will vanish."
   ]
  },
  {
   "cell_type": "code",
   "execution_count": 12,
   "metadata": {
    "cellId": "sgbatlm9vzb4z889fho7"
   },
   "outputs": [],
   "source": [
    "def get_next_token(lm, prefix, temperature=1.0):\n",
    "    \"\"\"\n",
    "    return next token after prefix;\n",
    "    :param temperature: samples proportionally to lm probabilities ^ (1 / temperature)\n",
    "        if temperature == 0, always takes most likely token. Break ties arbitrarily.\n",
    "    \"\"\"\n",
    "    next_tokens = lm.get_possible_next_tokens(prefix)\n",
    "    tokens = np.array(list(next_tokens.keys()))\n",
    "    token_probs = np.array(list(next_tokens.values()))\n",
    "    if temperature == 0:\n",
    "        return tokens[token_probs.argmax()]\n",
    "    samling_probs = token_probs**(1/temperature)\n",
    "    samling_probs = samling_probs/sum(samling_probs)\n",
    "    return np.random.choice(tokens, p=samling_probs)"
   ]
  },
  {
   "cell_type": "code",
   "execution_count": 13,
   "metadata": {
    "cellId": "98l40131wjtd5xbdm5b2nr"
   },
   "outputs": [
    {
     "name": "stdout",
     "output_type": "stream",
     "text": [
      "Looks nice!\n"
     ]
    }
   ],
   "source": [
    "from collections import Counter\n",
    "test_freqs = Counter([get_next_token(lm, 'there have') for _ in range(10000)])\n",
    "assert 250 < test_freqs['not'] < 450\n",
    "assert 8500 < test_freqs['been'] < 9500\n",
    "assert 1 < test_freqs['lately'] < 200\n",
    "\n",
    "test_freqs = Counter([get_next_token(lm, 'deep', temperature=1.0) for _ in range(10000)])\n",
    "assert 1500 < test_freqs['learning'] < 3000\n",
    "test_freqs = Counter([get_next_token(lm, 'deep', temperature=0.5) for _ in range(10000)])\n",
    "assert 8000 < test_freqs['learning'] < 9000\n",
    "test_freqs = Counter([get_next_token(lm, 'deep', temperature=0.0) for _ in range(10000)])\n",
    "assert test_freqs['learning'] == 10000\n",
    "\n",
    "print(\"Looks nice!\")"
   ]
  },
  {
   "cell_type": "markdown",
   "metadata": {
    "cellId": "ux4n8iq523n4s3ftrelhxj"
   },
   "source": [
    "Let's have fun with this model"
   ]
  },
  {
   "cell_type": "code",
   "execution_count": 14,
   "metadata": {
    "cellId": "1nnnycga61rijt6nd8zai"
   },
   "outputs": [
    {
     "name": "stdout",
     "output_type": "stream",
     "text": [
      "artificial intelligence , namely for a variety of techniques that rely on assumptions that are representable by different spatial areas and the multiple kernel learning algorithms , which was developed prior to classification is to match data from the iterative process is modeled as receiving a lot of attention in the inner problem to the representative frames are distorted by blur , exposure , and even feeling of the aerial image recognition is unclear . this is not a treatise . much of this bipolar framework , the first question , or their combinations , from $ 13 % increase in\n"
     ]
    }
   ],
   "source": [
    "prefix = 'artificial' # <- your ideas :)\n",
    "\n",
    "for i in range(100):\n",
    "    prefix += ' ' + get_next_token(lm, prefix)\n",
    "    if prefix.endswith(EOS) or len(lm.get_possible_next_tokens(prefix)) == 0:\n",
    "        break\n",
    "        \n",
    "print(prefix)"
   ]
  },
  {
   "cell_type": "code",
   "execution_count": 15,
   "metadata": {
    "cellId": "pxyjsv3b7r8thdfxlgitl"
   },
   "outputs": [
    {
     "name": "stdout",
     "output_type": "stream",
     "text": [
      "bridging the gap between the different types of constraints . we introduce a new approach to the best of our proposed method is shown to be more challenging . in this paper we propose a novel method to tackle the problem of the proposed framework is based on the other hand , the proposed method is developed . the key idea is to provide a mathematical framework for the first stage , we show that the proposed method is used to train the model . _EOS_\n"
     ]
    }
   ],
   "source": [
    "prefix = 'bridging the' # <- more of your ideas\n",
    "\n",
    "for i in range(100):\n",
    "    prefix += ' ' + get_next_token(lm, prefix, temperature=0.5)\n",
    "    if prefix.endswith(EOS) or len(lm.get_possible_next_tokens(prefix)) == 0:\n",
    "        break\n",
    "        \n",
    "print(prefix)"
   ]
  },
  {
   "cell_type": "markdown",
   "metadata": {
    "cellId": "2n90bscmzfko0qnctp7ysc"
   },
   "source": [
    "__More in the homework:__ nucleus sampling, top-k sampling, beam search(not for the faint of heart)."
   ]
  },
  {
   "cell_type": "markdown",
   "metadata": {
    "cellId": "3gdmey7g8at5n5c5x4gayh"
   },
   "source": [
    "### Evaluating language models: perplexity (1point)\n",
    "\n",
    "Perplexity is a measure of how well your model approximates the true probability distribution behind the data. __Smaller perplexity = better model__.\n",
    "\n",
    "To compute perplexity on one sentence, use:\n",
    "$$\n",
    "    {\\mathbb{P}}(w_1 \\dots w_N) = P(w_1, \\dots, w_N)^{-\\frac1N} = \\left( \\prod_t P(w_t \\mid w_{t - n}, \\dots, w_{t - 1})\\right)^{-\\frac1N},\n",
    "$$\n",
    "\n",
    "\n",
    "On the corpora level, perplexity is a product of probabilities of all tokens in all sentences to the power of $1/N$, where $N$ is __total length (in tokens) of all sentences__ in corpora.\n",
    "\n",
    "This number can quickly get too small for float32/float64 precision, so we recommend you to first compute log-perplexity (from log-probabilities) and then take the exponent."
   ]
  },
  {
   "cell_type": "code",
   "execution_count": 19,
   "metadata": {},
   "outputs": [
    {
     "data": {
      "text/plain": [
       "Counter({'paper': 0.649740453307293,\n",
       "         'work': 0.14457521714550034,\n",
       "         'study': 0.021997224649226498,\n",
       "         'article': 0.01947885079919823,\n",
       "         'way': 0.010638844631752069,\n",
       "         'context': 0.010381867708279797,\n",
       "         'setting': 0.008171866166418256,\n",
       "         'case': 0.007914889242945984,\n",
       "         'area': 0.006681400010279077,\n",
       "         'research': 0.005961864624556714,\n",
       "         'field': 0.005756283085778897,\n",
       "         'report': 0.004625584622500899,\n",
       "         'framework': 0.004420003083723082,\n",
       "         'model': 0.0037004676980007195,\n",
       "         'domain': 0.003494886159222902,\n",
       "         'direction': 0.003289304620445084,\n",
       "         'task': 0.003032327696972812,\n",
       "         'approach': 0.003032327696972812,\n",
       "         'thesis': 0.002980932312278357,\n",
       "         'note': 0.0028781415428894485,\n",
       "         'regard': 0.0027753507735005394,\n",
       "         'letter': 0.0026211646194171765,\n",
       "         'survey': 0.002107210772472632,\n",
       "         'chapter': 0.0020558153877781775,\n",
       "         'contribution': 0.002004420003083723,\n",
       "         'scenario': 0.0019530246183892686,\n",
       "         'problem': 0.0019530246183892686,\n",
       "         'method': 0.001901629233694814,\n",
       "         'project': 0.0018502338490003598,\n",
       "         'sense': 0.001644652310222542,\n",
       "         'manner': 0.0014904661561391786,\n",
       "         'short': 0.0014904661561391786,\n",
       "         'manuscript': 0.0014390707714447243,\n",
       "         'technical': 0.0013362800020558154,\n",
       "         'respect': 0.0012848846173613608,\n",
       "         'process': 0.0012334892326669065,\n",
       "         'document': 0.001182093847972452,\n",
       "         'new': 0.001182093847972452,\n",
       "         'space': 0.0011306984632779976,\n",
       "         'review': 0.0010279076938890888,\n",
       "         'position': 0.0008737215398057254,\n",
       "         'system': 0.0008737215398057254,\n",
       "         'situation': 0.000822326155111271,\n",
       "         'application': 0.0006167446163334533,\n",
       "         'game': 0.0005653492316389988,\n",
       "         'algorithm': 0.0005139538469445444,\n",
       "         'class': 0.0005139538469445444,\n",
       "         'proposed': 0.0005139538469445444,\n",
       "         'tutorial': 0.00046255846225008994,\n",
       "         'language': 0.00046255846225008994,\n",
       "         'challenging': 0.00046255846225008994,\n",
       "         'general': 0.00046255846225008994,\n",
       "         'setup': 0.00046255846225008994,\n",
       "         'novel': 0.00046255846225008994,\n",
       "         'regime': 0.0004111630775556355,\n",
       "         'particular': 0.0004111630775556355,\n",
       "         'technique': 0.0004111630775556355,\n",
       "         'paradigm': 0.0004111630775556355,\n",
       "         'book': 0.0004111630775556355,\n",
       "         'category': 0.00035976769286118107,\n",
       "         'dataset': 0.00035976769286118107,\n",
       "         'brief': 0.00035976769286118107,\n",
       "         'extended': 0.00035976769286118107,\n",
       "         'light': 0.00035976769286118107,\n",
       "         'perspective': 0.00035976769286118107,\n",
       "         'part': 0.00035976769286118107,\n",
       "         'challenge': 0.00035976769286118107,\n",
       "         'family': 0.00030837230816672663,\n",
       "         'dissertation': 0.00030837230816672663,\n",
       "         'important': 0.00030837230816672663,\n",
       "         'first': 0.00030837230816672663,\n",
       "         'representation': 0.00030837230816672663,\n",
       "         'abstract': 0.00030837230816672663,\n",
       "         'architecture': 0.00030837230816672663,\n",
       "         'type': 0.00030837230816672663,\n",
       "         'low': 0.0002569769234722722,\n",
       "         'kind': 0.0002569769234722722,\n",
       "         'communication': 0.0002569769234722722,\n",
       "         'effort': 0.0002569769234722722,\n",
       "         'more': 0.0002569769234722722,\n",
       "         'emerging': 0.0002569769234722722,\n",
       "         'learning': 0.0002569769234722722,\n",
       "         'view': 0.0002569769234722722,\n",
       "         'subspace': 0.0002569769234722722,\n",
       "         'text': 0.0002569769234722722,\n",
       "         'information': 0.0002569769234722722,\n",
       "         'topic': 0.00020558153877781775,\n",
       "         'endeavor': 0.00020558153877781775,\n",
       "         'pa': 0.00020558153877781775,\n",
       "         'line': 0.00020558153877781775,\n",
       "         'very': 0.00020558153877781775,\n",
       "         'step': 0.00020558153877781775,\n",
       "         'series': 0.00020558153877781775,\n",
       "         'fashion': 0.00020558153877781775,\n",
       "         'present': 0.00020558153877781775,\n",
       "         'solution': 0.00020558153877781775,\n",
       "         'experiment': 0.00020558153877781775,\n",
       "         'latent': 0.00020558153877781775,\n",
       "         'network': 0.00020558153877781775,\n",
       "         'era': 0.00020558153877781775,\n",
       "         'we': 0.00020558153877781775,\n",
       "         'pilot': 0.00020558153877781775,\n",
       "         'demo': 0.00020558153877781775,\n",
       "         'form': 0.00020558153877781775,\n",
       "         'logic': 0.00020558153877781775,\n",
       "         'age': 0.00020558153877781775,\n",
       "         'specific': 0.00020558153877781775,\n",
       "         'benchmark': 0.00020558153877781775,\n",
       "         'non': 0.00015418615408336331,\n",
       "         'last': 0.00015418615408336331,\n",
       "         'theoretical': 0.00015418615408336331,\n",
       "         'multi': 0.00015418615408336331,\n",
       "         'second': 0.00015418615408336331,\n",
       "         'latter': 0.00015418615408336331,\n",
       "         'literature': 0.00015418615408336331,\n",
       "         'limit': 0.00015418615408336331,\n",
       "         'large': 0.00015418615408336331,\n",
       "         'theory': 0.00015418615408336331,\n",
       "         'data': 0.00015418615408336331,\n",
       "         'preliminary': 0.00015418615408336331,\n",
       "         'strategy': 0.00015418615408336331,\n",
       "         'analysis': 0.00015418615408336331,\n",
       "         'graph': 0.00015418615408336331,\n",
       "         'competition': 0.00015418615408336331,\n",
       "         'extension': 0.00015418615408336331,\n",
       "         '(': 0.00015418615408336331,\n",
       "         'set': 0.00015418615408336331,\n",
       "         'aspect': 0.00015418615408336331,\n",
       "         'formalism': 0.00015418615408336331,\n",
       "         'environment': 0.00015418615408336331,\n",
       "         'unified': 0.00010279076938890888,\n",
       "         'scheme': 0.00010279076938890888,\n",
       "         'pipeline': 0.00010279076938890888,\n",
       "         'existing': 0.00010279076938890888,\n",
       "         'layer': 0.00010279076938890888,\n",
       "         'computational': 0.00010279076938890888,\n",
       "         'instance': 0.00010279076938890888,\n",
       "         'hierarchical': 0.00010279076938890888,\n",
       "         'evaluation': 0.00010279076938890888,\n",
       "         'parameter': 0.00010279076938890888,\n",
       "         'collection': 0.00010279076938890888,\n",
       "         'question': 0.00010279076938890888,\n",
       "         'condition': 0.00010279076938890888,\n",
       "         'pioneering': 0.00010279076938890888,\n",
       "         'publication': 0.00010279076938890888,\n",
       "         'digital': 0.00010279076938890888,\n",
       "         'classification': 0.00010279076938890888,\n",
       "         'introductory': 0.00010279076938890888,\n",
       "         'talk': 0.00010279076938890888,\n",
       "         'few': 0.00010279076938890888,\n",
       "         'time': 0.00010279076938890888,\n",
       "         'vision': 0.00010279076938890888,\n",
       "         'spirit': 0.00010279076938890888,\n",
       "         'section': 0.00010279076938890888,\n",
       "         'richer': 0.00010279076938890888,\n",
       "         'online': 0.00010279076938890888,\n",
       "         ',': 0.00010279076938890888,\n",
       "         'dynamic': 0.00010279076938890888,\n",
       "         'vein': 0.00010279076938890888,\n",
       "         'companion': 0.00010279076938890888,\n",
       "         'implementation': 0.00010279076938890888,\n",
       "         'empirical': 0.00010279076938890888,\n",
       "         'procedure': 0.00010279076938890888,\n",
       "         'exciting': 0.00010279076938890888,\n",
       "         'apparatus': 0.00010279076938890888,\n",
       "         'introduction': 0.00010279076938890888,\n",
       "         'white': 0.00010279076938890888,\n",
       "         'is': 0.00010279076938890888,\n",
       "         'exploratory': 0.00010279076938890888,\n",
       "         'test': 0.00010279076938890888,\n",
       "         'face': 0.00010279076938890888,\n",
       "         'classical': 0.00010279076938890888,\n",
       "         'image': 0.00010279076938890888,\n",
       "         'objective': 0.00010279076938890888,\n",
       "         'investigation': 0.00010279076938890888,\n",
       "         'institutional': 0.00010279076938890888,\n",
       "         'technology': 0.00010279076938890888,\n",
       "         'correspondence': 0.00010279076938890888,\n",
       "         'normal': 0.00010279076938890888,\n",
       "         'trace': 0.00010279076938890888,\n",
       "         'inherently': 5.139538469445444e-05,\n",
       "         'corpus': 5.139538469445444e-05,\n",
       "         'colour': 5.139538469445444e-05,\n",
       "         'relational': 5.139538469445444e-05,\n",
       "         'workshop': 5.139538469445444e-05,\n",
       "         'real': 5.139538469445444e-05,\n",
       "         'prediction': 5.139538469445444e-05,\n",
       "         'criterion': 5.139538469445444e-05,\n",
       "         'modeling': 5.139538469445444e-05,\n",
       "         'networked': 5.139538469445444e-05,\n",
       "         'upper': 5.139538469445444e-05,\n",
       "         'community': 5.139538469445444e-05,\n",
       "         'proof': 5.139538469445444e-05,\n",
       "         'modality': 5.139538469445444e-05,\n",
       "         'binary': 5.139538469445444e-05,\n",
       "         'in': 5.139538469445444e-05,\n",
       "         'two': 5.139538469445444e-05,\n",
       "         'corner': 5.139538469445444e-05,\n",
       "         'keynote': 5.139538469445444e-05,\n",
       "         'three': 5.139538469445444e-05,\n",
       "         'sparse': 5.139538469445444e-05,\n",
       "         'emergent': 5.139538469445444e-05,\n",
       "         'factor': 5.139538469445444e-05,\n",
       "         'picture': 5.139538469445444e-05,\n",
       "         'combination': 5.139538469445444e-05,\n",
       "         'previous': 5.139538469445444e-05,\n",
       "         'expanding': 5.139538469445444e-05,\n",
       "         'partial': 5.139538469445444e-05,\n",
       "         'database': 5.139538469445444e-05,\n",
       "         'off': 5.139538469445444e-05,\n",
       "         'group': 5.139538469445444e-05,\n",
       "         'resource': 5.139538469445444e-05,\n",
       "         'dual': 5.139538469445444e-05,\n",
       "         'auxiliary': 5.139538469445444e-05,\n",
       "         'adversarial': 5.139538469445444e-05,\n",
       "         'variable': 5.139538469445444e-05,\n",
       "         'factorization': 5.139538469445444e-05,\n",
       "         'finite': 5.139538469445444e-05,\n",
       "         'reduced': 5.139538469445444e-05,\n",
       "         'term': 5.139538469445444e-05,\n",
       "         'subject': 5.139538469445444e-05,\n",
       "         'interactive': 5.139538469445444e-05,\n",
       "         'common': 5.139538469445444e-05,\n",
       "         'formulation': 5.139538469445444e-05,\n",
       "         'limited': 5.139538469445444e-05,\n",
       "         'corrupted': 5.139538469445444e-05,\n",
       "         'practical': 5.139538469445444e-05,\n",
       "         'variant': 5.139538469445444e-05,\n",
       "         'decision': 5.139538469445444e-05,\n",
       "         'order': 5.139538469445444e-05,\n",
       "         'mapping': 5.139538469445444e-05,\n",
       "         'neighborhood': 5.139538469445444e-05,\n",
       "         'protocol': 5.139538469445444e-05,\n",
       "         'configuration': 5.139538469445444e-05,\n",
       "         'theme': 5.139538469445444e-05,\n",
       "         'state': 5.139538469445444e-05,\n",
       "         'ensemble': 5.139538469445444e-05,\n",
       "         'genre': 5.139538469445444e-05,\n",
       "         'race': 5.139538469445444e-05,\n",
       "         'systems': 5.139538469445444e-05,\n",
       "         'aim': 5.139538469445444e-05,\n",
       "         'unsupervised': 5.139538469445444e-05,\n",
       "         'local': 5.139538469445444e-05,\n",
       "         'combinatorial': 5.139538469445444e-05,\n",
       "         'broader': 5.139538469445444e-05,\n",
       "         'comment': 5.139538469445444e-05,\n",
       "         'version': 5.139538469445444e-05,\n",
       "         'contamination': 5.139538469445444e-05,\n",
       "         'simplification': 5.139538469445444e-05,\n",
       "         'crowdsourced': 5.139538469445444e-05,\n",
       "         'basic': 5.139538469445444e-05,\n",
       "         'works': 5.139538469445444e-05,\n",
       "         'moea': 5.139538469445444e-05,\n",
       "         'overview': 5.139538469445444e-05,\n",
       "         'uncertain': 5.139538469445444e-05,\n",
       "         'sample': 5.139538469445444e-05,\n",
       "         'critical': 5.139538469445444e-05,\n",
       "         'phd': 5.139538469445444e-05,\n",
       "         'principle': 5.139538469445444e-05,\n",
       "         'comparison': 5.139538469445444e-05,\n",
       "         'reference': 5.139538469445444e-05,\n",
       "         'memory': 5.139538469445444e-05,\n",
       "         '2015': 5.139538469445444e-05,\n",
       "         'vast': 5.139538469445444e-05,\n",
       "         'essay': 5.139538469445444e-05,\n",
       "         'country': 5.139538469445444e-05,\n",
       "         'post': 5.139538469445444e-05,\n",
       "         'doctoral': 5.139538469445444e-05,\n",
       "         'grammar': 5.139538469445444e-05,\n",
       "         'school': 5.139538469445444e-05,\n",
       "         'connected': 5.139538469445444e-05,\n",
       "         'initial': 5.139538469445444e-05,\n",
       "         'reformulation': 5.139538469445444e-05,\n",
       "         'and': 5.139538469445444e-05,\n",
       "         'lexicographic': 5.139538469445444e-05,\n",
       "         'approximation': 5.139538469445444e-05,\n",
       "         'level': 5.139538469445444e-05,\n",
       "         'commentary': 5.139538469445444e-05,\n",
       "         'definition': 5.139538469445444e-05,\n",
       "         'transformation': 5.139538469445444e-05,\n",
       "         'strong': 5.139538469445444e-05,\n",
       "         'aggregate': 5.139538469445444e-05,\n",
       "         'small': 5.139538469445444e-05,\n",
       "         'prospect': 5.139538469445444e-05,\n",
       "         'world': 5.139538469445444e-05,\n",
       "         'papers': 5.139538469445444e-05,\n",
       "         'slightly': 5.139538469445444e-05,\n",
       "         '$\\\\': 5.139538469445444e-05,\n",
       "         'methodology': 5.139538469445444e-05,\n",
       "         'gap': 5.139538469445444e-05,\n",
       "         'crucial': 5.139538469445444e-05,\n",
       "         'chess': 5.139538469445444e-05,\n",
       "         'superadditive': 5.139538469445444e-05,\n",
       "         'highly': 5.139538469445444e-05,\n",
       "         'policy': 5.139538469445444e-05,\n",
       "         'restricted': 5.139538469445444e-05,\n",
       "         'hybrid': 5.139538469445444e-05,\n",
       "         'rule': 5.139538469445444e-05,\n",
       "         'example': 5.139538469445444e-05,\n",
       "         'poisson': 5.139538469445444e-05,\n",
       "         'special': 5.139538469445444e-05,\n",
       "         'polyhedral': 5.139538469445444e-05,\n",
       "         'equation': 5.139538469445444e-05,\n",
       "         'estimation': 5.139538469445444e-05,\n",
       "         'smooth': 5.139538469445444e-05,\n",
       "         'poster': 5.139538469445444e-05,\n",
       "         'result': 5.139538469445444e-05,\n",
       "         'independent': 5.139538469445444e-05,\n",
       "         'high': 5.139538469445444e-05,\n",
       "         'multivariate': 5.139538469445444e-05,\n",
       "         'dissimilarity': 5.139538469445444e-05,\n",
       "         'computation': 5.139538469445444e-05,\n",
       "         'rgb': 5.139538469445444e-05,\n",
       "         'modern': 5.139538469445444e-05,\n",
       "         'parsing': 5.139538469445444e-05,\n",
       "         'reranking': 5.139538469445444e-05,\n",
       "         'decade': 5.139538469445444e-05,\n",
       "         'functional': 5.139538469445444e-05,\n",
       "         'continued': 5.139538469445444e-05,\n",
       "         'fast': 5.139538469445444e-05,\n",
       "         'long': 5.139538469445444e-05,\n",
       "         'relatively': 5.139538469445444e-05,\n",
       "         'conceptual': 5.139538469445444e-05,\n",
       "         'iccv': 5.139538469445444e-05,\n",
       "         'mixture': 5.139538469445444e-05,\n",
       "         'comparative': 5.139538469445444e-05,\n",
       "         'given': 5.139538469445444e-05,\n",
       "         'discussion': 5.139538469445444e-05,\n",
       "         'nascent': 5.139538469445444e-05,\n",
       "         'stage': 5.139538469445444e-05,\n",
       "         'cc': 5.139538469445444e-05,\n",
       "         'isic': 5.139538469445444e-05,\n",
       "         'structure': 5.139538469445444e-05,\n",
       "         'illusion': 5.139538469445444e-05,\n",
       "         'pattern': 5.139538469445444e-05,\n",
       "         'massive': 5.139538469445444e-05,\n",
       "         'meta': 5.139538469445444e-05,\n",
       "         'embedding': 5.139538469445444e-05,\n",
       "         'kaggle': 5.139538469445444e-05,\n",
       "         'medical': 5.139538469445444e-05,\n",
       "         'rapidly': 5.139538469445444e-05,\n",
       "         'notebook': 5.139538469445444e-05,\n",
       "         'tasks': 5.139538469445444e-05,\n",
       "         'efficient': 5.139538469445444e-05,\n",
       "         'submission': 5.139538469445444e-05,\n",
       "         'mini': 5.139538469445444e-05,\n",
       "         'century': 5.139538469445444e-05,\n",
       "         'backdrop': 5.139538469445444e-05,\n",
       "         'natural': 5.139538469445444e-05,\n",
       "         'double': 5.139538469445444e-05,\n",
       "         'complex': 5.139538469445444e-05,\n",
       "         'practice': 5.139538469445444e-05,\n",
       "         'artical': 5.139538469445444e-05,\n",
       "         'coset': 5.139538469445444e-05,\n",
       "         'script': 5.139538469445444e-05,\n",
       "         'p': 5.139538469445444e-05,\n",
       "         'retrospective': 5.139538469445444e-05,\n",
       "         'role': 5.139538469445444e-05,\n",
       "         'this': 5.139538469445444e-05,\n",
       "         'generalized': 5.139538469445444e-05,\n",
       "         'modified': 5.139538469445444e-05,\n",
       "         'codebook': 5.139538469445444e-05,\n",
       "         'relationship': 5.139538469445444e-05,\n",
       "         'phase': 5.139538469445444e-05,\n",
       "         'co': 5.139538469445444e-05,\n",
       "         'cnl': 5.139538469445444e-05,\n",
       "         'colloquium': 5.139538469445444e-05,\n",
       "         'journal': 5.139538469445444e-05,\n",
       "         'newly': 5.139538469445444e-05,\n",
       "         'to': 5.139538469445444e-05,\n",
       "         'calculus': 5.139538469445444e-05,\n",
       "         'association': 5.139538469445444e-05,\n",
       "         'realization': 5.139538469445444e-05,\n",
       "         'ratio': 5.139538469445444e-05,\n",
       "         'progression': 5.139538469445444e-05,\n",
       "         'multidisciplinary': 5.139538469445444e-05,\n",
       "         'subset': 5.139538469445444e-05,\n",
       "         'coalition': 5.139538469445444e-05,\n",
       "         'arena': 5.139538469445444e-05,\n",
       "         'open': 5.139538469445444e-05,\n",
       "         'issue': 5.139538469445444e-05,\n",
       "         'poultry': 5.139538469445444e-05,\n",
       "         'upcoming': 5.139538469445444e-05,\n",
       "         'changed': 5.139538469445444e-05,\n",
       "         'course': 5.139538469445444e-05,\n",
       "         'mixed': 5.139538469445444e-05,\n",
       "         'economy': 5.139538469445444e-05,\n",
       "         'use': 5.139538469445444e-05,\n",
       "         'integrated': 5.139538469445444e-05,\n",
       "         'supplier': 5.139538469445444e-05,\n",
       "         'compilation': 5.139538469445444e-05,\n",
       "         'industry': 5.139538469445444e-05,\n",
       "         'sensorimotor': 5.139538469445444e-05,\n",
       "         'expository': 5.139538469445444e-05,\n",
       "         'landscape': 5.139538469445444e-05,\n",
       "         'treatment': 5.139538469445444e-05,\n",
       "         'synthesis': 5.139538469445444e-05,\n",
       "         'statement': 5.139538469445444e-05,\n",
       "         'selection': 5.139538469445444e-05,\n",
       "         'favorable': 5.139538469445444e-05,\n",
       "         'presentation': 5.139538469445444e-05,\n",
       "         'ranked': 5.139538469445444e-05,\n",
       "         'lecture': 5.139538469445444e-05,\n",
       "         'viewpoint': 5.139538469445444e-05,\n",
       "         'projected': 5.139538469445444e-05,\n",
       "         'increasingly': 5.139538469445444e-05,\n",
       "         'apparently': 5.139538469445444e-05,\n",
       "         'filter': 5.139538469445444e-05,\n",
       "         '3': 5.139538469445444e-05,\n",
       "         'hard': 5.139538469445444e-05,\n",
       "         'fascinating': 5.139538469445444e-05,\n",
       "         'techniques': 5.139538469445444e-05,\n",
       "         'monograph': 5.139538469445444e-05,\n",
       "         'round': 5.139538469445444e-05,\n",
       "         'scope': 5.139538469445444e-05,\n",
       "         'ad': 5.139538469445444e-05,\n",
       "         'noise': 5.139538469445444e-05,\n",
       "         'constrained': 5.139538469445444e-05})"
      ]
     },
     "execution_count": 19,
     "metadata": {},
     "output_type": "execute_result"
    }
   ],
   "source": [
    "lm.get_possible_next_tokens(\"in this\")"
   ]
  },
  {
   "cell_type": "code",
   "execution_count": 169,
   "metadata": {
    "cellId": "5hp010xyzzb4vqewo1bhny"
   },
   "outputs": [],
   "source": [
    "def perplexity(lm, lines, min_logprob=np.log(10 ** -50.)):\n",
    "    \"\"\"\n",
    "    :param lines: a list of strings with space-separated tokens\n",
    "    :param min_logprob: if log(P(w | ...)) is smaller than min_logprop, set it equal to min_logrob\n",
    "    :returns: corpora-level perplexity - a single scalar number from the formula above\n",
    "    \n",
    "    Note: do not forget to compute P(w_first | empty) and P(eos | full_sequence)\n",
    "    \n",
    "    PLEASE USE lm.get_next_token_prob and NOT lm.get_possible_next_tokens\n",
    "    \"\"\"\n",
    "    total_len = sum(len(line.split()) for line in lines)\n",
    "    log_prob_sum = 0\n",
    "\n",
    "    for line in lines:\n",
    "        line = line.split()\n",
    "        line = [UNK]  + line + [EOS]\n",
    "        for i in range(1,len(line)):\n",
    "            log_prob_sum += max(np.log(lm.get_next_token_prob(' '.join(line[:i]), line[i])), min_logprob)\n",
    "\n",
    "    return np.exp(-log_prob_sum / total_len)\n",
    "    \n"
   ]
  },
  {
   "cell_type": "code",
   "execution_count": 170,
   "metadata": {
    "cellId": "8b689bobhkey04x7pabupj"
   },
   "outputs": [
    {
     "name": "stdout",
     "output_type": "stream",
     "text": [
      "Perplexities: ppx1=391.599 ppx3=1.543 ppx10=1.191\n"
     ]
    },
    {
     "name": "stderr",
     "output_type": "stream",
     "text": [
      "C:\\Users\\germi\\AppData\\Local\\Temp\\ipykernel_5304\\408750961.py:18: RuntimeWarning: divide by zero encountered in log\n",
      "  log_prob_sum += max(np.log(lm.get_next_token_prob(' '.join(line[:i]), line[i])), min_logprob)\n"
     ]
    },
    {
     "ename": "AssertionError",
     "evalue": "",
     "output_type": "error",
     "traceback": [
      "\u001b[1;31m---------------------------------------------------------------------------\u001b[0m",
      "\u001b[1;31mAssertionError\u001b[0m                            Traceback (most recent call last)",
      "Cell \u001b[1;32mIn[170], line 16\u001b[0m\n\u001b[0;32m     13\u001b[0m \u001b[38;5;28;01massert\u001b[39;00m ppx1 \u001b[38;5;241m>\u001b[39m ppx3 \u001b[38;5;241m>\u001b[39m ppx10, \u001b[38;5;124m\"\u001b[39m\u001b[38;5;124mhigher N models should overfit and \u001b[39m\u001b[38;5;124m\"\u001b[39m\n\u001b[0;32m     14\u001b[0m \u001b[38;5;28;01massert\u001b[39;00m np\u001b[38;5;241m.\u001b[39misfinite(ppx_missing) \u001b[38;5;129;01mand\u001b[39;00m ppx_missing \u001b[38;5;241m>\u001b[39m \u001b[38;5;241m10\u001b[39m \u001b[38;5;241m*\u001b[39m\u001b[38;5;241m*\u001b[39m \u001b[38;5;241m6\u001b[39m, \u001b[38;5;124m\"\u001b[39m\u001b[38;5;124mmissing words should have large but finite perplexity. \u001b[39m\u001b[38;5;124m\"\u001b[39m \\\n\u001b[0;32m     15\u001b[0m     \u001b[38;5;124m\"\u001b[39m\u001b[38;5;124m Make sure you use min_logprob right\u001b[39m\u001b[38;5;124m\"\u001b[39m\n\u001b[1;32m---> 16\u001b[0m \u001b[38;5;28;01massert\u001b[39;00m np\u001b[38;5;241m.\u001b[39mallclose([ppx1, ppx3, ppx10], (\u001b[38;5;241m318.2132342216302\u001b[39m, \u001b[38;5;241m1.5199996213739575\u001b[39m, \u001b[38;5;241m1.1838145037901249\u001b[39m))\n",
      "\u001b[1;31mAssertionError\u001b[0m: "
     ]
    }
   ],
   "source": [
    "lm1 = NGramLanguageModel(dummy_lines, n=1)\n",
    "lm3 = NGramLanguageModel(dummy_lines, n=3)\n",
    "lm10 = NGramLanguageModel(dummy_lines, n=10)\n",
    "\n",
    "ppx1 = perplexity(lm1, dummy_lines)\n",
    "ppx3 = perplexity(lm3, dummy_lines)\n",
    "ppx10 = perplexity(lm10, dummy_lines)\n",
    "ppx_missing = perplexity(lm3, ['the jabberwock , with eyes of flame , '])  # thanks, L. Carrol\n",
    "\n",
    "print(\"Perplexities: ppx1=%.3f ppx3=%.3f ppx10=%.3f\" % (ppx1, ppx3, ppx10))\n",
    "\n",
    "assert all(0 < ppx < 500 for ppx in (ppx1, ppx3, ppx10)), \"perplexity should be non-negative and reasonably small\"\n",
    "assert ppx1 > ppx3 > ppx10, \"higher N models should overfit and \"\n",
    "assert np.isfinite(ppx_missing) and ppx_missing > 10 ** 6, \"missing words should have large but finite perplexity. \" \\\n",
    "    \" Make sure you use min_logprob right\"\n",
    "assert np.allclose([ppx1, ppx3, ppx10], (318.2132342216302, 1.5199996213739575, 1.1838145037901249))"
   ]
  },
  {
   "cell_type": "markdown",
   "metadata": {
    "cellId": "ypc4lks4vs1li908fqi8"
   },
   "source": [
    "Now let's measure the actual perplexity: we'll split the data into train and test and score model on test data only."
   ]
  },
  {
   "cell_type": "code",
   "execution_count": 171,
   "metadata": {
    "cellId": "tjnehsem2lmijkg2lto4w"
   },
   "outputs": [
    {
     "name": "stderr",
     "output_type": "stream",
     "text": [
      "C:\\Users\\germi\\AppData\\Local\\Temp\\ipykernel_5304\\408750961.py:18: RuntimeWarning: divide by zero encountered in log\n",
      "  log_prob_sum += max(np.log(lm.get_next_token_prob(' '.join(line[:i]), line[i])), min_logprob)\n"
     ]
    },
    {
     "name": "stdout",
     "output_type": "stream",
     "text": [
      "N = 1, Perplexity = 1906.38882\n",
      "N = 2, Perplexity = 94327624.66821\n",
      "N = 3, Perplexity = 81799050907281398956032.00000\n"
     ]
    }
   ],
   "source": [
    "from sklearn.model_selection import train_test_split\n",
    "train_lines, test_lines = train_test_split(lines, test_size=0.25, random_state=42)\n",
    "\n",
    "for n in (1, 2, 3):\n",
    "    lm = NGramLanguageModel(n=n, lines=train_lines)\n",
    "    ppx = perplexity(lm, test_lines)\n",
    "    print(\"N = %i, Perplexity = %.5f\" % (n, ppx))\n"
   ]
  },
  {
   "cell_type": "code",
   "execution_count": null,
   "metadata": {
    "cellId": "38nfbfkpzgfxik8kccyt1l"
   },
   "outputs": [],
   "source": [
    "# whoops, it just blew up :)"
   ]
  },
  {
   "cell_type": "markdown",
   "metadata": {
    "cellId": "oopn2o57wxm9vbxzycytce"
   },
   "source": [
    "### LM Smoothing\n",
    "\n",
    "The problem with our simple language model is that whenever it encounters an n-gram it has never seen before, it assigns it with the probabilitiy of 0. Every time this happens, perplexity explodes.\n",
    "\n",
    "To battle this issue, there's a technique called __smoothing__. The core idea is to modify counts in a way that prevents probabilities from getting too low. The simplest algorithm here is Additive smoothing (aka [Lapace smoothing](https://en.wikipedia.org/wiki/Additive_smoothing)):\n",
    "\n",
    "$$ P(w_t | prefix) = { Count(prefix, w_t) + \\delta \\over \\sum_{\\hat w} (Count(prefix, \\hat w) + \\delta) } $$\n",
    "\n",
    "If counts for a given prefix are low, additive smoothing will adjust probabilities to a more uniform distribution. Not that the summation in the denominator goes over _all words in the vocabulary_.\n",
    "\n",
    "Here's an example code we've implemented for you:"
   ]
  },
  {
   "cell_type": "code",
   "execution_count": 172,
   "metadata": {
    "cellId": "ioh26rlov6g8l2ssj1c8pm"
   },
   "outputs": [],
   "source": [
    "class LaplaceLanguageModel(NGramLanguageModel): \n",
    "    \"\"\" this code is an example, no need to change anything \"\"\"\n",
    "    def __init__(self, lines, n, delta=1.0):\n",
    "        self.n = n\n",
    "        counts = count_ngrams(lines, self.n)\n",
    "        self.vocab = set(token for token_counts in counts.values() for token in token_counts)\n",
    "        self.probs = defaultdict(Counter)\n",
    "\n",
    "        for prefix in counts:\n",
    "            token_counts = counts[prefix]\n",
    "            total_count = sum(token_counts.values()) + delta * len(self.vocab)\n",
    "            self.probs[prefix] = {token: (token_counts[token] + delta) / total_count\n",
    "                                          for token in token_counts}\n",
    "    def get_possible_next_tokens(self, prefix):\n",
    "        token_probs = super().get_possible_next_tokens(prefix)\n",
    "        missing_prob_total = 1.0 - sum(token_probs.values())\n",
    "        missing_prob = missing_prob_total / max(1, len(self.vocab) - len(token_probs))\n",
    "        return {token: token_probs.get(token, missing_prob) for token in self.vocab}\n",
    "    \n",
    "    def get_next_token_prob(self, prefix, next_token):\n",
    "        token_probs = super().get_possible_next_tokens(prefix)\n",
    "        if next_token in token_probs:\n",
    "            return token_probs[next_token]\n",
    "        else:\n",
    "            missing_prob_total = 1.0 - sum(token_probs.values())\n",
    "            missing_prob_total = max(0, missing_prob_total) # prevent rounding errors\n",
    "            return missing_prob_total / max(1, len(self.vocab) - len(token_probs))\n",
    "        "
   ]
  },
  {
   "cell_type": "markdown",
   "metadata": {
    "cellId": "90vsann3920ie05r2blbmi",
    "execution_id": "3868303d-0bb9-42c6-a9a8-dcf485c8220c"
   },
   "source": [
    "**Disclaimer**: the implementation above assumes all words unknown within a given context to be equally likely, *as well as the words outside of vocabulary*. Therefore, its' perplexity will be lower than it should when encountering such words. Therefore, comparing it with a model with fewer unknown words will not be fair. When implementing your own smoothing, you may handle this by adding a virtual `UNK` token of non-zero probability. Technically, this will result in a model where probabilities do not add up to $1$, but it is close enough for a practice excercise."
   ]
  },
  {
   "cell_type": "code",
   "execution_count": 173,
   "metadata": {
    "cellId": "3xvxkdxcmfqucruyt66mdc"
   },
   "outputs": [],
   "source": [
    "#test that it's a valid probability model\n",
    "for n in (1, 2, 3):\n",
    "    dummy_lm = LaplaceLanguageModel(dummy_lines, n=n)\n",
    "    assert np.allclose(sum([dummy_lm.get_next_token_prob('a', w_i) for w_i in dummy_lm.vocab]), 1), \"I told you not to break anything! :)\""
   ]
  },
  {
   "cell_type": "code",
   "execution_count": 174,
   "metadata": {
    "cellId": "j6zqa50koitjjri9ipd8ec"
   },
   "outputs": [
    {
     "name": "stdout",
     "output_type": "stream",
     "text": [
      "N = 1, Perplexity = 1013.87734\n",
      "N = 2, Perplexity = 486.02044\n",
      "N = 3, Perplexity = 3842.49083\n"
     ]
    }
   ],
   "source": [
    "for n in (1, 2, 3):\n",
    "    lm = LaplaceLanguageModel(train_lines, n=n, delta=0.1)\n",
    "    ppx = perplexity(lm, test_lines)\n",
    "    print(\"N = %i, Perplexity = %.5f\" % (n, ppx))"
   ]
  },
  {
   "cell_type": "code",
   "execution_count": null,
   "metadata": {
    "cellId": "pjuqt30jcerwbz1ym9zv1"
   },
   "outputs": [],
   "source": [
    "# optional: try to sample tokens from such a model"
   ]
  },
  {
   "cell_type": "markdown",
   "metadata": {
    "cellId": "3b8s1y9uls4fosu3yp28gg"
   },
   "source": [
    "### Kneser-Ney smoothing (2 points)\n",
    "\n",
    "Additive smoothing is simple, reasonably good but definitely not a State of The Art algorithm.\n",
    "\n",
    "\n",
    "Your final task in this notebook is to implement [Kneser-Ney](https://en.wikipedia.org/wiki/Kneser%E2%80%93Ney_smoothing) smoothing.\n",
    "\n",
    "It can be computed recurrently, for n>1:\n",
    "\n",
    "$$P_{kn}(w_t | prefix_{n-1}) = { \\max(0, Count(prefix_{n-1}, w_t) - \\delta) \\over \\sum_{\\hat w} Count(prefix_{n-1}, \\hat w)} + \\lambda_{prefix_{n-1}} \\cdot P_{kn}(w_t | prefix_{n-2})$$\n",
    "\n",
    "where\n",
    "- $prefix_{n-1}$ is a tuple of {n-1} previous tokens\n",
    "- $lambda_{prefix_{n-1}}$ is a normalization constant chosen so that probabilities add up to 1\n",
    "- Unigram $P_{kn}(w_t | prefix_{n-2})$ corresponds to Kneser Ney smoothing for {N-1}-gram language model.\n",
    "- Unigram $P_{kn}(w_t)$ is a special case: how likely it is to see x_t in an unfamiliar context\n",
    "\n",
    "See lecture slides or wiki for more detailed formulae.\n",
    "\n",
    "__Your task__ is to\n",
    "- implement `KneserNeyLanguageModel` class,\n",
    "- test it on 1-3 gram language models\n",
    "- find optimal (within reason) smoothing delta for 3-gram language model with Kneser-Ney smoothing"
   ]
  },
  {
   "cell_type": "code",
   "execution_count": null,
   "metadata": {
    "cellId": "2ix7kzw02v30oye55322all"
   },
   "outputs": [],
   "source": [
    "class KneserNeyLanguageModel(NGramLanguageModel): \n",
    "    \"\"\" A template for Kneser-Ney language model. Default delta may be suboptimal. \"\"\"\n",
    "    def __init__(self, lines, n, delta=1.0):\n",
    "        self.n = n\n",
    "        <YOUR CODE>\n",
    "        \n",
    "    def get_possible_next_tokens(self, prefix):\n",
    "        < YOUR CODE >\n",
    "        \n",
    "    def get_next_token_prob(self, prefix, next_token):\n",
    "        <YOUR CODE>"
   ]
  },
  {
   "cell_type": "code",
   "execution_count": null,
   "metadata": {
    "cellId": "lsk91832qbmdt7x1q0a8z4"
   },
   "outputs": [],
   "source": [
    "#test that it's a valid probability model\n",
    "for n in (1, 2, 3):\n",
    "    dummy_lm = KneserNeyLanguageModel(dummy_lines, n=n)\n",
    "    assert np.allclose(sum([dummy_lm.get_next_token_prob('a', w_i) for w_i in dummy_lm.vocab]), 1), \"I told you not to break anything! :)\""
   ]
  },
  {
   "cell_type": "code",
   "execution_count": null,
   "metadata": {
    "cellId": "pp3jtkk9annp1qkou58x1b"
   },
   "outputs": [],
   "source": [
    "for n in (1, 2, 3):\n",
    "    lm = KneserNeyLanguageModel(train_lines, n=n, smoothing=<...>)\n",
    "    ppx = perplexity(lm, test_lines)\n",
    "    print(\"N = %i, Perplexity = %.5f\" % (n, ppx))"
   ]
  }
 ],
 "metadata": {
  "kernelspec": {
   "display_name": "Python 3 (ipykernel)",
   "language": "python",
   "name": "python3"
  },
  "language_info": {
   "codemirror_mode": {
    "name": "ipython",
    "version": 3
   },
   "file_extension": ".py",
   "mimetype": "text/x-python",
   "name": "python",
   "nbconvert_exporter": "python",
   "pygments_lexer": "ipython3",
   "version": "3.10.9"
  },
  "notebookId": "53997d2d-afb8-4477-8874-b6d46299f06c",
  "notebookPath": "seminar.ipynb"
 },
 "nbformat": 4,
 "nbformat_minor": 4
}
