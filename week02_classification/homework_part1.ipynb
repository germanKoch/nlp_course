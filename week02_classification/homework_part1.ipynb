{
 "cells": [
  {
   "cell_type": "code",
   "execution_count": 2,
   "metadata": {},
   "outputs": [],
   "source": [
    "import numpy as np\n",
    "import matplotlib.pyplot as plt\n",
    "%matplotlib inline"
   ]
  },
  {
   "cell_type": "markdown",
   "metadata": {},
   "source": [
    "### Homework part I: Prohibited Comment Classification (3 points)\n",
    "\n",
    "![img](https://github.com/yandexdataschool/nlp_course/raw/master/resources/banhammer.jpg)\n",
    "\n",
    "__In this notebook__ you will build an algorithm that classifies social media comments into normal or toxic.\n",
    "Like in many real-world cases, you only have a small (10^3) dataset of hand-labeled examples to work with. We'll tackle this problem using both classical nlp methods and embedding-based approach."
   ]
  },
  {
   "cell_type": "code",
   "execution_count": 3,
   "metadata": {},
   "outputs": [
    {
     "data": {
      "text/html": [
       "<div>\n",
       "<style scoped>\n",
       "    .dataframe tbody tr th:only-of-type {\n",
       "        vertical-align: middle;\n",
       "    }\n",
       "\n",
       "    .dataframe tbody tr th {\n",
       "        vertical-align: top;\n",
       "    }\n",
       "\n",
       "    .dataframe thead th {\n",
       "        text-align: right;\n",
       "    }\n",
       "</style>\n",
       "<table border=\"1\" class=\"dataframe\">\n",
       "  <thead>\n",
       "    <tr style=\"text-align: right;\">\n",
       "      <th></th>\n",
       "      <th>should_ban</th>\n",
       "      <th>comment_text</th>\n",
       "    </tr>\n",
       "  </thead>\n",
       "  <tbody>\n",
       "    <tr>\n",
       "      <th>50</th>\n",
       "      <td>0</td>\n",
       "      <td>\"Those who're in advantageous positions are th...</td>\n",
       "    </tr>\n",
       "    <tr>\n",
       "      <th>250</th>\n",
       "      <td>1</td>\n",
       "      <td>Fartsalot56 says f**k you motherclucker!!</td>\n",
       "    </tr>\n",
       "    <tr>\n",
       "      <th>450</th>\n",
       "      <td>1</td>\n",
       "      <td>Are you a fool? \\r\\n\\r\\nI am sorry, but you se...</td>\n",
       "    </tr>\n",
       "    <tr>\n",
       "      <th>650</th>\n",
       "      <td>1</td>\n",
       "      <td>I AM NOT A VANDAL!!!!!!!!!!!!!!!!!!!!!!!!!!!!!!</td>\n",
       "    </tr>\n",
       "    <tr>\n",
       "      <th>850</th>\n",
       "      <td>0</td>\n",
       "      <td>Citing sources\\r\\n\\r\\nCheck out the Wikipedia:...</td>\n",
       "    </tr>\n",
       "  </tbody>\n",
       "</table>\n",
       "</div>"
      ],
      "text/plain": [
       "     should_ban                                       comment_text\n",
       "50            0  \"Those who're in advantageous positions are th...\n",
       "250           1          Fartsalot56 says f**k you motherclucker!!\n",
       "450           1  Are you a fool? \\r\\n\\r\\nI am sorry, but you se...\n",
       "650           1    I AM NOT A VANDAL!!!!!!!!!!!!!!!!!!!!!!!!!!!!!!\n",
       "850           0  Citing sources\\r\\n\\r\\nCheck out the Wikipedia:..."
      ]
     },
     "execution_count": 3,
     "metadata": {},
     "output_type": "execute_result"
    }
   ],
   "source": [
    "import pandas as pd\n",
    "data = pd.read_csv(\"comments.tsv\", sep='\\t')\n",
    "\n",
    "texts = data['comment_text'].values\n",
    "target = data['should_ban'].values\n",
    "data[50::200]"
   ]
  },
  {
   "cell_type": "code",
   "execution_count": 4,
   "metadata": {},
   "outputs": [],
   "source": [
    "from sklearn.model_selection import train_test_split\n",
    "texts_train, texts_test, y_train, y_test = train_test_split(texts, target, test_size=0.5, random_state=42)"
   ]
  },
  {
   "cell_type": "markdown",
   "metadata": {},
   "source": [
    "__Note:__ it is generally a good idea to split data into train/test before anything is done to them.\n",
    "\n",
    "It guards you against possible data leakage in the preprocessing stage. For example, should you decide to select words present in obscene tweets as features, you should only count those words over the training set. Otherwise your algoritm can cheat evaluation."
   ]
  },
  {
   "cell_type": "markdown",
   "metadata": {},
   "source": [
    "### Preprocessing and tokenization\n",
    "\n",
    "Comments contain raw text with punctuation, upper/lowercase letters and even newline symbols.\n",
    "\n",
    "To simplify all further steps, we'll split text into space-separated tokens using one of nltk tokenizers."
   ]
  },
  {
   "cell_type": "code",
   "execution_count": 5,
   "metadata": {},
   "outputs": [
    {
     "name": "stdout",
     "output_type": "stream",
     "text": [
      "before: How to be a grown-up at work: replace \"fuck you\" with \"Ok, great!\".\n",
      "after: how to be a grown-up at work : replace \" fuck you \" with \" ok , great ! \" .\n"
     ]
    }
   ],
   "source": [
    "from nltk.tokenize import TweetTokenizer\n",
    "tokenizer = TweetTokenizer()\n",
    "preprocess = lambda text: ' '.join(tokenizer.tokenize(text.lower()))\n",
    "\n",
    "text = 'How to be a grown-up at work: replace \"fuck you\" with \"Ok, great!\".'\n",
    "print(\"before:\", text,)\n",
    "print(\"after:\", preprocess(text),)"
   ]
  },
  {
   "cell_type": "code",
   "execution_count": 6,
   "metadata": {},
   "outputs": [],
   "source": [
    "# task: preprocess each comment in train and test\n",
    "preprocess_vector = np.vectorize(preprocess)\n",
    "\n",
    "\n",
    "texts_train = preprocess_vector(texts_train)\n",
    "texts_test = preprocess_vector(texts_test)"
   ]
  },
  {
   "cell_type": "code",
   "execution_count": 8,
   "metadata": {},
   "outputs": [],
   "source": [
    "assert texts_train[5] ==  'who cares anymore . they attack with impunity .'\n",
    "assert texts_test[89] == 'hey todds ! quick q ? why are you so gay'\n",
    "assert len(texts_test) == len(y_test)"
   ]
  },
  {
   "cell_type": "markdown",
   "metadata": {},
   "source": [
    "### Solving it: bag of words\n",
    "\n",
    "![img](http://www.novuslight.com/uploads/n/BagofWords.jpg)\n",
    "\n",
    "One traditional approach to such problem is to use bag of words features:\n",
    "1. build a vocabulary of frequent words (use train data only)\n",
    "2. for each training sample, count the number of times a word occurs in it (for each word in vocabulary).\n",
    "3. consider this count a feature for some classifier\n",
    "\n",
    "__Note:__ in practice, you can compute such features using sklearn. Please don't do that in the current assignment, though.\n",
    "* `from sklearn.feature_extraction.text import CountVectorizer, TfidfVectorizer`"
   ]
  },
  {
   "cell_type": "code",
   "execution_count": 39,
   "metadata": {},
   "outputs": [
    {
     "name": "stdout",
     "output_type": "stream",
     "text": [
      "example features: ['!', '12:20', '300', '_', 'adorned', 'alternative', 'archive', 'average', 'benkner', 'bout', 'came', 'chest', 'combined', 'consumers', 'cricket', 'decisions', 'dickheads', 'domestic', 'eductaion', 'essentially', 'faggot', 'firms', 'frustrated', 'goal', 'hanibal', 'hip-hop', 'identified', 'infoboxes', 'issue', 'kindergarten', 'lets', 'lot', \"mclaren's\", 'moderator', 'naturally', 'noticeable', 'opposing', 'pdf', 'plant', 'pretoria', 'punctuation', 'rebels', 'repetative', 'riadh', 'schulz', 'shes', 'slit', 'spoof', 'stupid', 't', 'theoretical', 'topic', 'uglyness', 'userspace', 'wanted', 'wikieditor', 'year', '←']\n"
     ]
    }
   ],
   "source": [
    "from collections import Counter\n",
    "\n",
    "# task: find up to k most frequent tokens in texts_train,\n",
    "# sort them by number of occurences (highest first)\n",
    "k = 10000\n",
    "\n",
    "bow_vocabulary = Counter()\n",
    "\n",
    "for text in texts_train:\n",
    "    for token in text.split():\n",
    "        bow_vocabulary[token] += 1\n",
    "bow_vocabulary = [key for key, value in bow_vocabulary.most_common(k)]\n",
    "\n",
    "print('example features:', sorted(bow_vocabulary)[::100])"
   ]
  },
  {
   "cell_type": "code",
   "execution_count": 42,
   "metadata": {},
   "outputs": [],
   "source": [
    "def text_to_bow(text):\n",
    "    \"\"\" convert text string to an array of token counts. Use bow_vocabulary. \"\"\"\n",
    "    bow = np.zeros(len(bow_vocabulary))\n",
    "    for token in text.split():\n",
    "        if token in bow_vocabulary:\n",
    "            bow[bow_vocabulary.index(token)] += 1\n",
    "    \n",
    "    return np.array(bow, 'float32')"
   ]
  },
  {
   "cell_type": "code",
   "execution_count": 43,
   "metadata": {},
   "outputs": [],
   "source": [
    "X_train_bow = np.stack(list(map(text_to_bow, texts_train)))\n",
    "X_test_bow = np.stack(list(map(text_to_bow, texts_test)))"
   ]
  },
  {
   "cell_type": "code",
   "execution_count": 45,
   "metadata": {},
   "outputs": [],
   "source": [
    "k_max = len(set(' '.join(texts_train).split()))\n",
    "assert X_train_bow.shape == (len(texts_train), min(k, k_max))\n",
    "assert X_test_bow.shape == (len(texts_test), min(k, k_max))\n",
    "assert np.all(X_train_bow[5:10].sum(-1) == np.array([len(s.split()) for s in  texts_train[5:10]]))\n",
    "assert len(bow_vocabulary) <= min(k, k_max)\n",
    "assert X_train_bow[6, bow_vocabulary.index('.')] == texts_train[6].split().count('.')"
   ]
  },
  {
   "cell_type": "markdown",
   "metadata": {},
   "source": [
    "__Naive bayes:__ perhaps the simplest model that can solve your problem is the so called Naive Bayes Classifier. \n",
    "Its a trivial linear model that assumes the independence of input features and computes the coefficients by, well, counting probabilities.\n",
    "\n",
    "If you don't remember the math behind Naive Bayes, read [this chunk](https://lena-voita.github.io/nlp_course/text_classification.html#naive_bayes) to help refresh your memory. Done? Good! Now let's implement that :)"
   ]
  },
  {
   "cell_type": "code",
   "execution_count": 115,
   "metadata": {},
   "outputs": [],
   "source": [
    "class BinaryNaiveBayes:\n",
    "    delta = 1.0  # add this to all word counts to smoothe probabilities\n",
    "    \n",
    "    def fit(self, X, y):\n",
    "        \"\"\"\n",
    "        Fit a NaiveBayes classifier for two classes\n",
    "        :param X: [batch_size, vocab_size] of bag-of-words features\n",
    "        :param y: [batch_size] of binary targets {0, 1}\n",
    "        \"\"\"\n",
    "        # first, compute marginal probabilities of every class, p(y=k) for k = 0,1\n",
    "        self.p_y = np.array([1 - y.mean(), y.mean()])\n",
    "        \n",
    "        # count occurences of each word in texts with label 1 and label 0 separately\n",
    "        \n",
    "\n",
    "        word_counts_positive = X[y == 1].sum(0)\n",
    "        word_counts_negative = X[y == 0].sum(0)\n",
    "        # ^-- both must be vectors of shape [vocab_size].\n",
    "        \n",
    "        # finally, lets use those counts to estimate p(x | y = k) for k = 0, 1\n",
    "        \n",
    "        self.p_x_given_positive = (self.delta + word_counts_positive) / (word_counts_positive.sum(0) + self.delta * X.shape[1])\n",
    "        self.p_x_given_negative = (self.delta + word_counts_negative) / (word_counts_negative.sum(0) + self.delta * X.shape[1])\n",
    "        # both must be of shape [vocab_size]; and don't forget to add self.delta!\n",
    "        \n",
    "        return self\n",
    "    \n",
    "    def predict_scores(self, X):\n",
    "        \"\"\"\n",
    "        :param X: [batch_size, vocab_size] of bag-of-words features\n",
    "        :returns: a matrix of scores [batch_size, k] of scores for k-th class\n",
    "        \"\"\"\n",
    "        # compute scores for positive and negative classes separately.\n",
    "        # these scores should be proportional to log-probabilities of the respective target {0, 1}\n",
    "        # note: if you apply logarithm to p_x_given_*, the total log-probability can be written\n",
    "        # as a dot-product with X\n",
    "        negative_prior = np.log(self.p_y[0])\n",
    "        positive_prior = np.log(self.p_y[1])\n",
    "        words_prob_negative = X.dot(np.log(self.p_x_given_negative))\n",
    "        words_prob_positive = X.dot(np.log(self.p_x_given_positive))\n",
    "\n",
    "        score_negative = negative_prior + words_prob_negative\n",
    "        score_positive = positive_prior + words_prob_positive\n",
    "        \n",
    "        # you can compute total p(x | y=k) with a dot product\n",
    "        return np.stack([score_negative, score_positive], axis=-1)\n",
    "    \n",
    "    def predict(self, X):\n",
    "        return self.predict_scores(X).argmax(axis=-1)"
   ]
  },
  {
   "cell_type": "code",
   "execution_count": 116,
   "metadata": {},
   "outputs": [],
   "source": [
    "naive_model = BinaryNaiveBayes().fit(X_train_bow, y_train)"
   ]
  },
  {
   "cell_type": "code",
   "execution_count": 117,
   "metadata": {},
   "outputs": [],
   "source": [
    "assert naive_model.p_y.shape == (2,) and naive_model.p_y.sum() == 1 and naive_model.p_y[0] > naive_model.p_y[1]\n",
    "assert naive_model.p_x_given_positive.shape == naive_model.p_x_given_negative.shape == X_train_bow.shape[1:]\n",
    "assert np.allclose(naive_model.p_x_given_positive.sum(), 1.0)\n",
    "assert np.allclose(naive_model.p_x_given_negative.sum(), 1.0)\n",
    "assert naive_model.p_x_given_negative.min() > 0, \"did you forget to add delta?\"\n",
    "\n",
    "f_index = bow_vocabulary.index('fuck')  # offensive tweets should contain more of this\n",
    "assert naive_model.p_x_given_positive[f_index] > naive_model.p_x_given_negative[f_index]\n",
    "\n",
    "g_index = bow_vocabulary.index('good')  # offensive tweets should contain less of this\n",
    "assert naive_model.p_x_given_positive[g_index] < naive_model.p_x_given_negative[g_index]"
   ]
  },
  {
   "cell_type": "code",
   "execution_count": 121,
   "metadata": {},
   "outputs": [
    {
     "name": "stdout",
     "output_type": "stream",
     "text": [
      "[ 4.96463776e+00 -7.73289795e+01  3.32934570e+00 -1.07626343e+00\n",
      " -9.38279724e+00 -1.49664688e+00 -9.43551025e+01 -3.61213684e+00\n",
      " -1.19207153e+01  4.33911133e+00  4.39013672e+00 -1.06246033e+01\n",
      "  6.02334442e+01  2.02672119e+01  7.08055878e+00 -7.98609619e+01\n",
      " -7.88148193e+01 -8.52874756e+00 -5.55341339e+00 -1.71329956e+01\n",
      "  3.34302368e+01  4.81486511e+00 -6.23527222e+01  1.78723145e+00\n",
      " -1.18490601e+01  8.63355255e+00 -4.23942261e+01  2.67314911e-01\n",
      " -6.94720764e+01  3.75985107e+01 -1.52135773e+01  1.87822495e+01\n",
      " -7.32993698e+00  1.32382812e+01  3.88530884e+01  9.24371338e+01\n",
      " -1.77450867e+01  5.28129959e+00  8.63462830e+00 -1.44942474e+01\n",
      "  7.01845169e+00  1.33677979e+01 -1.38615265e+01  3.72360229e+01\n",
      " -1.27548828e+01  3.59124756e+00 -3.63391113e+00  4.59992371e+01\n",
      " -4.62036133e+00  1.13871994e+01  5.20538330e-01  5.20349121e+00\n",
      " -3.02957764e+01 -3.73918152e+01  6.43377304e+00 -6.98648071e+00\n",
      "  5.75289917e+00 -1.92326050e+01  3.67586136e+00 -1.24711151e+01\n",
      " -6.88546143e+01  3.05221558e+01 -5.24487305e+00 -9.73857117e+00\n",
      " -1.06350861e+01  5.08421326e+00 -3.69113770e+01 -8.20963135e+01\n",
      "  1.32387085e+01  5.66382324e+03 -8.08904266e+00  9.47100830e+00\n",
      " -2.13113556e+01 -8.34252930e+01 -1.51088379e+02 -7.86153564e+01\n",
      "  6.48117065e-03 -8.74351196e+01  5.20213318e+00 -8.27693176e+00\n",
      "  4.71813354e+01  7.76531219e+00  3.11329956e+01 -5.83745193e+00\n",
      "  1.13840790e+01  5.48631287e+00  1.45253906e+01  1.15395966e+01\n",
      "  4.51010132e+00 -1.85285645e+02 -1.74407959e+00 -2.28743591e+01\n",
      " -1.88102112e+01  2.81359253e+01  1.82268524e+01 -1.53765869e+00\n",
      "  1.01239014e+01 -6.20613403e+01  1.88290634e+01  2.36615906e+01\n",
      " -6.39027710e+01  4.23126221e+00  9.91202545e+00 -1.10608215e+01\n",
      " -1.00225525e+02  1.99701233e+01  2.73348999e+00  4.21054382e+01\n",
      " -4.74638672e+01 -1.00000488e+02 -2.38429565e+01  1.32469330e+01\n",
      " -1.88126984e+01  1.25425903e+03 -6.61864014e+01 -2.04880371e+01\n",
      " -1.76484985e+01 -1.17724609e+00  2.69282532e+00  6.91597748e+00\n",
      " -9.55673218e+00 -2.08130035e+01 -4.65880127e+01  1.76846313e+01\n",
      " -5.53353882e+00 -7.85351562e+00  8.11605835e+00 -5.48180389e+00\n",
      "  1.61749039e+01  8.04749680e+00 -5.13282776e-01  1.68099365e+01\n",
      "  4.71407318e+00  7.19941711e+00  1.16566238e+01  1.54550781e+01\n",
      " -2.43158875e+01 -1.45561371e+01  1.37302017e+00 -6.12286987e+01\n",
      "  2.84799576e+00  1.83587189e+01  3.52240143e+01  2.32700043e+01\n",
      "  6.04170227e+00  1.25853195e+01  1.40725250e+01 -1.37511139e+01\n",
      "  2.19739844e+03  1.25192261e+00 -6.01165771e-01  1.83279419e+01\n",
      "  7.87460327e+00  9.00309753e+00  3.30263519e+00 -2.55750537e+03\n",
      "  1.62247314e+01 -1.55595398e+00 -1.19650513e+02  2.38429871e+01\n",
      "  3.10315552e+01  7.13578415e+00  4.37075806e+00  1.23858643e+00\n",
      " -1.02532043e+01 -2.36145020e-01  1.07989502e+01  3.14578629e+00\n",
      " -3.65440674e+01  8.78494263e-01 -2.22370148e+00  4.12163696e+01\n",
      " -4.36414185e+01 -2.71596069e+01  1.85924530e+00  2.32918549e+00\n",
      " -1.18078369e+02 -5.58681488e+00 -3.37593384e+01 -2.03583527e+00\n",
      "  5.17004395e+00 -1.22758942e+01  2.21404114e+01 -8.91399384e+00\n",
      " -5.36785278e+01 -1.02340393e+01  1.46212158e+01  2.54281158e+01\n",
      " -1.37829895e+01 -1.64795685e+00  3.83240967e+01  4.07899475e+00\n",
      " -1.22919556e+02  2.00904785e+02 -2.81004639e+01 -2.00273438e+01\n",
      " -3.80407715e+00 -2.74263306e+01  6.60097504e+00  7.29469299e+00\n",
      "  6.38921738e+00 -1.53925171e+01  2.37327576e+01  1.01524887e+01\n",
      " -1.57133179e+01  1.44114380e+01 -1.03088379e-01 -2.99301453e+01\n",
      "  5.93513489e+00  1.07896271e+01 -1.66517181e+01  2.59128571e+00\n",
      " -7.41238403e+00 -1.77987671e+00 -1.71906433e+01  2.04952927e+01\n",
      "  4.06713257e+01  6.43791199e+00 -5.94899902e+02 -8.61840820e+01\n",
      " -7.97555923e-01  7.95625305e+00  5.49519653e+01 -3.37193848e+02\n",
      " -2.89960938e+01 -6.89524841e+00 -3.37341919e+01 -1.81719055e+01\n",
      "  4.02212524e+00  2.64012909e+00  1.07044189e+02 -3.60717773e+01\n",
      " -6.71803284e+00  6.97521973e+01 -6.04801941e+00  9.83853912e+00\n",
      " -4.58718872e+01 -3.97965393e+01 -5.98109131e+01 -3.92103271e+01\n",
      "  5.85816956e+00  1.27449341e+01  7.84309006e+00  3.45977783e-01\n",
      "  6.19113922e-01 -4.31700897e+00 -4.89780884e+01 -5.21828461e+00\n",
      " -2.48139343e+01  2.52872467e+00 -2.77504272e+01 -3.18542175e+01\n",
      "  1.25514526e+01  3.78662109e-01 -1.07876099e+02 -1.14346069e+02\n",
      " -7.50510864e+01  7.06130981e+00  1.41290894e+01  8.58831787e+00\n",
      "  7.63476562e+00  3.69643784e+00 -8.44250488e+00 -4.97362671e+01\n",
      " -3.09858704e+01  1.56066437e+01 -7.36550293e+01 -8.94100952e+00\n",
      " -1.64465332e+01  4.25953674e+00 -6.50402832e+00 -2.54256287e+01\n",
      " -5.74759521e+01 -2.05074463e+01 -2.43521423e+01  5.46173859e+00\n",
      "  8.21040039e+01 -5.97436523e+00  6.74957886e+01 -1.62563782e+01\n",
      " -6.81687622e+01  6.29434204e+00 -6.82625580e+00 -4.66386108e+01\n",
      " -7.92541504e+01 -5.67404480e+01 -1.81899719e+01 -1.37294312e+02\n",
      " -8.59661865e+00 -1.86653900e+01  3.70301819e+00  1.85429382e+00\n",
      " -6.65467834e+00  9.42651367e+00  2.93190918e+01 -1.75102234e-01\n",
      " -3.57104736e+02 -4.07259369e+00 -1.99880981e+01 -4.17309570e+02\n",
      "  7.60627747e-01  1.01120758e+01 -1.93964233e+01  9.50656128e+00\n",
      "  1.22345543e+01  6.12995148e+00  7.84719849e+00 -3.42239380e+01\n",
      " -1.83311768e+01  8.96244812e+00  7.87718201e+00 -1.23113556e+01\n",
      "  2.12479858e+01  3.62301855e+03  1.03020401e+01 -1.77524414e+01\n",
      " -2.09589539e+01  3.57495117e+00 -4.72302246e+00 -7.16154480e+00\n",
      "  4.87587280e+01 -4.91011353e+01 -1.04888916e+00  8.84254456e+00\n",
      " -3.94953613e+01 -4.12064514e+01 -3.43457031e+00  5.21102905e+00\n",
      "  4.29498291e+00 -4.47558594e+00  6.50357056e+00  8.08135223e+00\n",
      "  3.56875000e+01 -1.80311737e+01  7.01237488e+00  3.50114441e+00\n",
      "  4.07513428e+01  5.81451416e+00  5.71694946e+00 -4.34570312e+01\n",
      "  1.40804443e+01 -2.99457397e+01  1.61247559e+01 -2.57757568e+00\n",
      " -1.45623779e+01  2.36960449e+01  2.32522583e+00  3.49776459e+00\n",
      " -6.98535156e+00 -3.78474731e+01  9.82463074e+00 -4.08767700e+01\n",
      " -3.71112061e+01  4.39622498e+00 -4.31371307e+00  6.83120728e+00\n",
      " -1.35716858e+01  9.67971802e-01 -2.31614746e+02 -7.03794861e+00\n",
      " -6.68243408e-01  4.72457886e+00 -5.34764404e+01 -3.80294800e+01\n",
      "  8.07469177e+00  1.53667603e+01  1.20843506e+01 -6.09611816e+01\n",
      "  6.63232422e+01 -2.12742920e+01  4.94380188e+00  2.12950439e+01\n",
      " -2.14263458e+01 -3.06207848e+00  1.64818802e+01 -2.63419495e+01\n",
      " -1.72304535e+01  2.33778381e+00 -4.04476929e+01  5.77281189e+01\n",
      " -1.61942993e+02 -1.03690308e+02 -2.50323486e+01  3.37547874e+00\n",
      "  2.46026154e+01 -2.43189240e+00  1.30613098e+01 -1.49312744e+02\n",
      "  9.37704468e+00 -2.03032074e+01  1.06781616e+01  8.12252808e+00\n",
      " -3.80543900e+00 -2.57637634e+01 -5.93609619e+01  6.02772522e+00\n",
      " -3.90263977e+01  6.43475342e+00  4.78604889e+00 -5.15289917e+01\n",
      " -3.20304108e+00 -2.13170242e+00 -5.51536560e-01 -4.98942947e+00\n",
      " -3.13662720e+00  1.48480644e+01 -4.97827759e+01  1.50804443e+01\n",
      "  5.17910767e+01  1.36356049e+01  1.43435822e+01 -4.05094910e+00\n",
      "  5.25828552e+00 -9.32069092e+01  1.10247803e+01  4.27368164e+00\n",
      "  6.43997192e+00 -2.40175476e+01 -5.45980453e+00  1.28202438e+01\n",
      "  3.32596741e+01 -1.54240112e+01  4.64430237e+00  8.08146667e+00\n",
      " -4.91554565e+01  6.18034668e+01 -1.81273651e+00 -3.62893677e+00\n",
      " -1.94866028e+01 -3.70853424e+00 -4.63845215e+01 -1.44438934e+00\n",
      " -4.12640381e+01  6.83139038e+00 -9.17130127e+01 -5.33856812e+01\n",
      " -2.72912598e+01 -1.59579773e+01 -1.59507599e+01 -1.04716034e+01\n",
      "  1.74287415e+01  2.72098389e+01  2.78049660e+00  1.56634216e+01\n",
      "  3.37474365e+01 -5.99170303e+00  3.31368408e+01 -2.93977539e+02\n",
      "  3.89716721e+00  6.90063477e-01  8.65035629e+00 -2.25562134e+01\n",
      "  1.20026512e+01 -1.48982544e+01  1.36020660e+00  1.19790192e+01\n",
      "  2.86648560e+00 -1.81325928e+02 -6.79356384e+00  2.17993164e+01\n",
      " -3.79435425e+01  2.31504059e+00 -1.92449341e+01 -3.67570496e+00\n",
      " -2.47227173e+01 -2.91300781e+02  3.97773071e+03 -6.00465698e+01\n",
      " -1.74768372e+01 -2.87777405e+01  2.25061035e+00 -1.04444702e+02\n",
      " -9.08209229e+00 -9.67636719e+01 -7.27047729e+00  5.20272827e+00\n",
      "  2.08476105e+01 -3.25689697e+00 -3.63012695e+00 -5.71522217e+01\n",
      "  3.92887115e+00 -9.75869751e+00  1.56112061e+01 -4.35469818e+00\n",
      "  4.36483002e+00 -3.12767334e+02 -1.80987793e+02 -1.61627197e+00\n",
      "  9.62756348e+00 -4.87481079e+01  2.73138809e+00 -1.14106903e+01\n",
      " -1.41174469e+01 -3.27012939e+01 -3.49779968e+01  9.93374634e+00\n",
      " -1.22334595e+01  4.23027344e+01  7.35496582e+02  9.48500061e+00]\n",
      "[ 1.10685883e+01 -2.24733734e+00  1.66945648e+00 -1.52600586e+02\n",
      "  1.22648773e+01  1.94697571e+00  5.11266327e+00 -2.85052185e+01\n",
      " -5.25950928e+01  1.76161194e+00 -1.90966797e+00  1.12861633e+00\n",
      "  1.13490715e+01  3.43753433e+00  4.57532883e+00  1.28934479e+01\n",
      " -6.01442871e+01 -1.45458984e+00 -1.05604706e+01 -2.65908813e+00\n",
      "  4.43676758e+00  1.59022141e+00  4.95634079e+00  5.80718994e-01\n",
      " -3.66671753e+00  1.08142853e+00 -2.41643677e+01  6.32720947e+00\n",
      "  9.13081360e+00 -2.44735718e+00 -1.27824402e+00 -1.45550537e+00\n",
      " -7.60299683e+00 -3.00796509e+01  5.00450516e+00 -9.22145081e+00\n",
      "  5.53989410e+00  6.84126282e+00 -1.12390137e+00 -1.53539734e+01\n",
      " -9.25236816e+01 -1.02729797e+01  1.18265381e+01 -1.02498627e+01\n",
      "  1.10225754e+01 -8.90787354e+01 -5.61853027e+00 -1.63023682e+01\n",
      " -1.35533905e+01  3.13190460e-01  7.80524445e+00 -1.42989044e+01\n",
      " -6.42562866e+00 -3.93626785e+00  1.26547165e+01  1.90136719e+00\n",
      "  4.46119690e+00 -2.11957092e+01 -1.86115112e+01 -2.32999420e+00\n",
      " -1.07555908e+02  5.71186829e+00  6.92195892e+00 -1.28485870e+00\n",
      "  7.54513550e+00 -9.28005600e+00 -3.19266357e+01 -4.59812012e+01\n",
      " -1.23505402e+01 -3.81508179e+01 -4.46978760e+00  1.21467590e+01\n",
      " -9.65692139e+00  4.17915344e+00 -1.03907776e+00 -1.40078735e+00\n",
      " -2.52218018e+01  3.51425171e+00 -1.31678314e+01 -1.95473633e+01\n",
      " -1.89176559e-01  3.24896851e+01  4.39965820e+00  4.76979065e+00\n",
      " -9.51904297e+00 -5.21397400e+00  1.23056030e+00  1.03730392e+00\n",
      "  1.12158203e+00  8.44220734e+00 -4.51936340e+00  1.28878784e+00\n",
      "  9.42755127e+00  3.95274353e+00 -8.07145691e+00 -3.58090820e+01\n",
      " -8.64166260e-01 -9.47336426e+01 -1.91083374e+01 -3.20576782e+01\n",
      " -1.18302917e+00  3.64120865e+00  4.10797119e-01  8.14342499e-01\n",
      " -3.34327393e+01 -5.48291016e+00  1.36305237e+00 -2.62010193e+00\n",
      "  4.02053833e+00 -9.77172852e-01  6.48030090e+00 -1.74337463e+01\n",
      "  1.87544632e+00  1.64901733e+00  2.02548523e+01 -1.23581543e+01\n",
      " -7.19726562e-01 -1.83863831e+00 -2.22308655e+01 -8.28258057e+01\n",
      "  5.11799240e+00  4.33151245e-01 -3.85614014e+00  2.75772095e+01\n",
      "  6.51351929e+00  7.55344772e+00 -3.68870850e+01 -7.92205811e+00\n",
      "  5.45561981e+00 -3.26450806e+01  8.92413330e+00 -5.36765137e+01\n",
      " -4.29493713e+00  7.84792709e+00 -1.28146515e+01 -1.79006577e-01\n",
      "  5.17881775e+00 -2.49215698e+01  2.68388939e+00 -1.59136963e+00\n",
      "  4.76735687e+00  1.57068176e+01 -3.72985840e-01  3.29136276e+00\n",
      " -2.43130493e+01 -1.51667480e+01 -2.57559814e+01  2.86764526e+00\n",
      "  1.23632812e+00 -2.13959656e+01  1.88661766e+00 -1.65967102e+01\n",
      " -3.45879822e+01  1.36432266e+01  9.93923950e+00  2.90336609e+00\n",
      "  1.82360535e+01  7.80602646e+00 -5.47225952e-01  8.81577301e+00\n",
      "  3.89668274e+00 -4.29613037e+01 -2.61701965e+01  7.72203255e+00\n",
      "  8.17846680e+00 -1.83282928e+01  1.21301270e+00 -2.50787354e+01\n",
      "  7.87969589e+00 -8.33258057e+00 -3.14939575e+01 -7.89433289e+00\n",
      " -4.79804993e+00 -4.30762329e+01  1.47448235e+01  9.17495728e+00\n",
      " -9.64294434e+00 -5.43899536e+00 -2.14478149e+01  5.78329468e+00\n",
      " -3.28104248e+01  1.66102982e+01  1.09187775e+01  3.10914612e+00\n",
      "  5.76806259e+00 -1.40319214e+01 -6.52757568e+01  2.05597878e-02\n",
      " -2.18540039e+01 -5.86239624e+00  1.15958557e+01  1.09857445e+01\n",
      " -6.55635071e+00  2.78195190e+00  7.93579483e+00  3.82456207e+00\n",
      " -2.56909180e+00  2.70996094e+00  1.35166359e+01 -1.80929279e+00\n",
      " -6.66836548e+00  1.18644371e+01 -9.67460632e+00  2.91116333e+00\n",
      " -2.75439758e+01 -1.24291992e+00 -4.78353882e+00  5.80380249e+00\n",
      "  3.31563950e-01 -8.25402832e+00  4.70906448e+00 -1.84616089e-01\n",
      " -4.60214996e+00 -1.40283775e+00 -2.88877563e+01 -1.21902161e+01\n",
      " -8.80568027e-02  1.49818726e+01 -2.02838516e+00  4.22162842e+02\n",
      "  2.25502319e+01 -7.47851562e+00  1.84980392e+01 -1.58269653e+01\n",
      " -2.86831665e+00  2.32253113e+01 -5.33676758e+01 -3.60429382e+00\n",
      "  1.36994324e+01  3.11690521e+00  3.17070770e+00 -6.75491333e-01\n",
      "  5.05958557e-01 -2.75167847e+00 -2.66637573e+01  1.28276443e+00\n",
      "  2.51037598e-01 -1.11927948e+01  9.73327637e+00 -2.30902100e+01\n",
      "  1.92138672e-01  6.56127930e-03  7.23855591e+00 -1.11869507e+01\n",
      "  3.74268723e+00 -2.96971893e+00  1.42207794e+01  4.97829437e+00\n",
      " -4.51599121e+00  1.29963989e+01  4.14655113e+00 -2.52919769e+00\n",
      " -8.72901917e-01 -1.28842926e+00 -9.74121094e+00 -3.61019287e+01\n",
      "  1.31596375e+01  4.91794586e+00 -7.83361816e+00 -4.42235107e+01\n",
      " -8.01799011e+00 -2.31650925e+00  3.34804916e+00 -4.77313995e+00\n",
      " -4.18758392e+00  1.22837524e+01 -2.91442871e-03 -8.80568027e-02\n",
      " -1.45474243e+00  6.06374359e+00  4.45024109e+00 -1.81080017e+01\n",
      " -2.09524384e+01  1.50836983e+01 -3.36167145e+00 -1.93976593e+01\n",
      " -8.38000488e+00  8.98417664e+00 -2.85803833e+01 -1.37855530e+00\n",
      "  2.06233521e+01 -3.78800049e+01 -1.02338791e+00  7.95885849e+00\n",
      " -6.81221924e+01  5.82658386e+00 -1.64589233e+01  6.29745865e+00\n",
      "  1.97462311e+01 -1.77288818e+01 -2.45569763e+01  1.82273865e+00\n",
      " -4.55562592e+00  2.41212463e+00  1.79832916e+01 -7.47772980e+00\n",
      " -4.66792297e+00 -7.33271790e+00  1.09134064e+01 -3.10074463e+01\n",
      " -1.05252838e+00 -1.72760010e+00 -5.78939819e+00 -1.64692383e+01\n",
      " -3.19130707e+00 -1.08878632e+01 -9.26788330e-01 -3.57747803e+02\n",
      " -5.57451782e+01 -4.13816071e+00 -3.54335938e+01  1.60979805e+01\n",
      "  3.50663757e+00  4.18675232e+00  3.32571030e+00  6.79121399e+00\n",
      " -5.61384583e+00  9.40289307e+00 -3.15235519e+00 -8.06045532e+01\n",
      " -2.54825439e+01 -6.77796936e+00 -9.28585815e+00 -8.49929810e+00\n",
      " -2.07706451e-01 -2.49767456e+01  4.09011459e+00 -4.72985840e+00\n",
      "  1.40245056e+00 -9.68513489e-01 -1.10038376e+01 -2.25552063e+01\n",
      "  1.47498779e+01 -1.80899048e+00 -5.46320190e+01  3.57667847e+01\n",
      " -6.65042114e+00 -4.18319702e+00 -3.22888184e+00  8.65567780e+00\n",
      "  1.31371307e+00 -7.47451782e-02 -1.58417053e+01 -2.63938141e+00\n",
      " -6.88977051e+00 -5.87535858e+00  2.23362732e+00 -1.76346741e+01\n",
      " -2.38330994e+01 -6.49050903e+00  6.72055817e+00 -1.07213257e+02\n",
      "  3.14096832e+00 -7.17445374e+00 -1.53701935e+01 -4.80938110e+01\n",
      "  2.52406616e+01  1.03096313e+01 -8.18417358e+00  1.77001953e-01\n",
      " -2.72232422e+02  3.91371155e+00  7.98404121e+00  3.01395416e+00\n",
      " -9.57864380e+00  3.54249573e+00  2.41525726e+01 -1.61801147e+01\n",
      " -1.22412491e+00  1.09863281e+01 -5.39834595e+00  4.47628784e+00\n",
      "  1.66335144e+01 -5.95886230e+01  2.92570114e+00 -1.21700439e+01\n",
      " -2.64469910e+00  3.79232788e+00 -4.07215576e+01 -1.95269775e+01\n",
      " -3.97573853e+00 -2.05080566e+01  7.86451721e+00 -2.12208557e+01\n",
      "  3.18302155e+00 -3.89669922e+02 -3.19079590e+01 -2.26379395e-01\n",
      "  1.03099251e+00 -1.23906555e+01 -1.83272400e+01 -1.19861603e+01\n",
      "  8.51263428e+00 -1.49308395e+00  6.77100754e+00 -4.04603882e+01\n",
      " -5.35319214e+01  1.17124939e+00  1.50235443e+01  1.02534485e+00\n",
      " -3.04933167e+00  3.53228283e+00 -6.50964355e+01 -4.43037415e+00\n",
      " -1.07122650e+01 -9.89483643e+01  1.70849915e+01 -8.83964539e-01\n",
      " -3.90865479e+01  3.63090897e+00  2.62507629e+00 -1.24113464e+00\n",
      " -1.13964844e+01 -1.78533936e+01 -2.47013550e+01  5.43563843e-01\n",
      "  2.49465942e+01 -5.74180603e+00  1.38580017e+01 -1.21963501e+00\n",
      "  1.25549622e+01  1.03240662e+01 -4.58828735e+01 -2.52195129e+01\n",
      " -8.48315811e+00 -6.32795715e+00  1.00697327e+00 -1.54653168e+01\n",
      "  2.83619995e+01 -6.66480713e+01 -5.48291016e+00 -1.38837433e+00\n",
      "  7.65995026e-01 -3.05781250e+01 -6.45191956e+00  2.89311523e+01\n",
      " -3.92052612e+01 -1.71077271e+01 -1.41111374e+00 -2.10211487e+01\n",
      "  2.19022369e+00 -1.37777710e+01  1.15716772e+01  1.96119385e+01\n",
      " -1.02477837e+00 -1.01982117e+01 -4.15692139e+00 -6.30972290e+01\n",
      " -3.17282104e+00 -4.24826050e+01 -4.21726990e+00  2.66580200e+00\n",
      " -3.54110107e+01  1.59126282e+00  7.20359039e+00 -8.39359283e+00\n",
      "  4.20707703e-01  1.20187378e+00 -3.49899292e-01  3.31115723e-03\n",
      "  4.12870789e+00 -6.75958252e+01 -8.01315308e-02  3.19608307e+00\n",
      "  6.96688843e+00  8.20999146e-01 -9.58980560e-01 -2.77126709e+02\n",
      "  1.15309906e+00 -9.09770203e+00  7.88256073e+00 -5.89315796e+00\n",
      " -4.43448257e+00 -9.79740143e-01  5.24066925e+00 -6.62719727e+00\n",
      "  2.63686523e+01 -1.38847504e+01  1.23565598e+01 -4.05527954e+01\n",
      " -1.46329956e+01 -9.34045410e+00 -1.67133179e+01 -8.24934387e+00\n",
      "  2.78762817e-01 -1.25441406e+02  9.98036957e+00 -1.47049805e+02\n",
      " -6.70623779e-03 -9.01969910e+00 -6.29379272e-01  2.15215302e+00\n",
      " -1.49455261e+00 -3.43550720e+01  6.85622787e+00  1.85204506e+00\n",
      " -1.59994507e+00  5.51281738e+00 -2.19560623e-01  4.50003052e+00]\n",
      "Model accuracy: 0.756\n",
      "Well done!\n"
     ]
    },
    {
     "data": {
      "image/png": "[encoded data removed]",
      "text/plain": [
       "<Figure size 640x480 with 1 Axes>"
      ]
     },
     "metadata": {},
     "output_type": "display_data"
    }
   ],
   "source": [
    "from sklearn.metrics import roc_auc_score, roc_curve\n",
    "\n",
    "for name, X, y, model in [\n",
    "    ('train', X_train_bow, y_train, naive_model),\n",
    "    ('test ', X_test_bow, y_test, naive_model)\n",
    "]:\n",
    "    proba = model.predict_scores(X)[:, 1] - model.predict_scores(X)[:, 0]\n",
    "    auc = roc_auc_score(y, proba)\n",
    "    plt.plot(*roc_curve(y, proba)[:2], label='%s AUC=%.4f' % (name, auc))\n",
    "\n",
    "plt.plot([0, 1], [0, 1], '--', color='black',)\n",
    "plt.legend(fontsize='large')\n",
    "plt.grid()\n",
    "\n",
    "test_accuracy = np.mean(naive_model.predict(X_test_bow) == y_test)\n",
    "print(f\"Model accuracy: {test_accuracy:.3f}\")\n",
    "assert test_accuracy > 0.75, \"Accuracy too low. There's likely a mistake in the code.\"\n",
    "print(\"Well done!\")"
   ]
  },
  {
   "cell_type": "markdown",
   "metadata": {},
   "source": [
    "Okay, it definitely learned *something*. Now let's figure out what exactly it learned. The simplest way to do that is by highlighting which words have a greatest ratio of positive to negative probability or vice versa. We'll go with the positive one [because reasons](https://www.urbandictionary.com/define.php?term=because%20reasons).\n",
    "\n",
    "__Your task__ is to compute top-25 words that have the __highest__ ratio of ${p(x_i | y=1)} \\over {p(x_i | y=0)}$. Enjoy!"
   ]
  },
  {
   "cell_type": "code",
   "execution_count": 132,
   "metadata": {},
   "outputs": [
    {
     "name": "stdout",
     "output_type": "stream",
     "text": [
      "#0\tscientific\t(ratio=12.222967147827148)\n",
      "#1\t         @\t(ratio=13.445263862609863)\n",
      "#2\t     idiot\t(ratio=13.445263862609863)\n",
      "#3\t   bastard\t(ratio=14.667561531066895)\n",
      "#4\t       hit\t(ratio=14.667561531066895)\n",
      "#5\t         u\t(ratio=15.278709411621094)\n",
      "#6\t   asshole\t(ratio=15.889857292175293)\n",
      "#7\t         *\t(ratio=17.11215591430664)\n",
      "#8\t   college\t(ratio=17.11215591430664)\n",
      "#9\t         =\t(ratio=17.53995704650879)\n",
      "#10\t    stupid\t(ratio=18.33445167541504)\n",
      "#11\t       ass\t(ratio=26.890527725219727)\n",
      "#12\t   fucking\t(ratio=31.779714584350586)\n",
      "#13\t      shit\t(ratio=44.002681732177734)\n",
      "#14\t      slap\t(ratio=44.002681732177734)\n",
      "#15\t      fuck\t(ratio=53.78105545043945)\n",
      "#16\t     bitch\t(ratio=59.89254379272461)\n",
      "#17\t      fggt\t(ratio=97.78373718261719)\n",
      "#18\t      dick\t(ratio=187.0113983154297)\n",
      "#19\t j.delanoy\t(ratio=220.01341247558594)\n",
      "#20\t    nigger\t(ratio=223.6802978515625)\n",
      "#21\t      suck\t(ratio=314.7414245605469)\n",
      "#22\t   offfuck\t(ratio=441.2491149902344)\n",
      "#23\t      heil\t(ratio=471.8065185546875)\n",
      "#24\t    hitler\t(ratio=475.47344970703125)\n"
     ]
    }
   ],
   "source": [
    "# hint: use naive_model.p_*\n",
    "probability_ratio = model.p_x_given_positive/model.p_x_given_negative\n",
    "top_negative_words = [bow_vocabulary[ind] for ind in (model.p_x_given_positive/model.p_x_given_negative).argsort()[-25:]]\n",
    "\n",
    "assert len(top_negative_words) == 25 and [isinstance(w, str) for w in top_negative_words]\n",
    "assert 'j.delanoy' in top_negative_words and 'college' in top_negative_words\n",
    "\n",
    "for i, word in enumerate(top_negative_words):\n",
    "    print(f\"#{i}\\t{word.rjust(10, ' ')}\\t(ratio={probability_ratio[bow_vocabulary.index(word)]})\")"
   ]
  },
  {
   "cell_type": "markdown",
   "metadata": {},
   "source": [
    "Now lets try something less prehistoric: __Logistic Regression__. Turns out, if you're using silicon instead of an abacus, you can find model weights by optimizing the log-probability of the answer. Though, of course, you don't even need to write it by hand anymore. Let's sklearn it!"
   ]
  },
  {
   "cell_type": "code",
   "execution_count": 147,
   "metadata": {},
   "outputs": [],
   "source": [
    "from sklearn.linear_model import LogisticRegression\n",
    "bow_model = LogisticRegression(C=0.2).fit(X_train_bow, y_train)"
   ]
  },
  {
   "cell_type": "code",
   "execution_count": 148,
   "metadata": {},
   "outputs": [
    {
     "name": "stdout",
     "output_type": "stream",
     "text": [
      "Model accuracy: 0.772\n",
      "Well done!\n"
     ]
    },
    {
     "data": {
      "image/png": "[encoded data removed]",
      "text/plain": [
       "<Figure size 640x480 with 1 Axes>"
      ]
     },
     "metadata": {},
     "output_type": "display_data"
    }
   ],
   "source": [
    "from sklearn.metrics import roc_auc_score, roc_curve\n",
    "\n",
    "for name, X, y, model in [\n",
    "    ('train', X_train_bow, y_train, bow_model),\n",
    "    ('test ', X_test_bow, y_test, bow_model)\n",
    "]:\n",
    "    proba = model.predict_proba(X)[:, 1]\n",
    "    auc = roc_auc_score(y, proba)\n",
    "    plt.plot(*roc_curve(y, proba)[:2], label='%s AUC=%.4f' % (name, auc))\n",
    "\n",
    "plt.plot([0, 1], [0, 1], '--', color='black',)\n",
    "plt.legend(fontsize='large')\n",
    "plt.grid()\n",
    "\n",
    "test_accuracy = np.mean(bow_model.predict(X_test_bow) == y_test)\n",
    "print(f\"Model accuracy: {test_accuracy:.3f}\")\n",
    "assert test_accuracy > 0.77, \"Hint: tune the parameter C to improve performance\"\n",
    "print(\"Well done!\")"
   ]
  },
  {
   "cell_type": "markdown",
   "metadata": {},
   "source": [
    "### Task: implement TF-IDF features\n",
    "\n",
    "Not all words are equally useful. One can prioritize rare words and downscale words like \"and\"/\"or\" by using __tf-idf features__. This abbreviation stands for __text frequency/inverse document frequence__ and means exactly that:\n",
    "\n",
    "$$ feature_i = { Count(word_i \\in x) \\times { log {N \\over Count(word_i \\in D) + \\alpha} }} $$\n",
    "\n",
    "\n",
    ", where x is a single text, D is your dataset (a collection of texts), N is a total number of documents and $\\alpha$ is a smoothing hyperparameter (typically 1). \n",
    "And $Count(word_i \\in D)$ is the number of documents where $word_i$ appears.\n",
    "\n",
    "It may also be a good idea to normalize each data sample after computing tf-idf features.\n",
    "\n",
    "__Your task:__ implement tf-idf features, train a model and evaluate ROC curve. Compare it with basic BagOfWords model from above.\n",
    "\n",
    "Please don't use sklearn/nltk builtin tf-idf vectorizers in your solution :) You can still use 'em for debugging though."
   ]
  },
  {
   "cell_type": "code",
   "execution_count": 158,
   "metadata": {},
   "outputs": [],
   "source": [
    "# calculate words counts\n",
    "word_count = Counter()\n",
    "\n",
    "for text in texts_train:\n",
    "    for token in text.split():\n",
    "        word_count[token] += 1\n",
    "\n",
    "# calculate idf\n",
    "alpha = 1e-3\n",
    "word_to_idf = np.zeros(len(bow_vocabulary))\n",
    "\n",
    "for word in bow_vocabulary:        \n",
    "    word_to_idf[bow_vocabulary.index(word)] = np.log(len(texts_train)/(word_count[word] + alpha))"
   ]
  },
  {
   "cell_type": "code",
   "execution_count": 160,
   "metadata": {},
   "outputs": [],
   "source": [
    "def text_tf_idf(text):\n",
    "    \"\"\" convert text string to an array of token counts. Use bow_vocabulary. \"\"\"\n",
    "    tf_idf = np.zeros(len(bow_vocabulary))\n",
    "\n",
    "    for token in text.split():\n",
    "        if token in bow_vocabulary:\n",
    "            tf_idf[bow_vocabulary.index(token)] += 1\n",
    "    return np.array(tf_idf, 'float32') * word_to_idf"
   ]
  },
  {
   "cell_type": "code",
   "execution_count": 164,
   "metadata": {},
   "outputs": [],
   "source": [
    "# convert datasets to tfidf\n",
    "X_train_tfidf = np.stack(list(map(text_tf_idf, texts_train)))\n",
    "X_test_tfidf = np.stack(list(map(text_tf_idf, texts_test)))"
   ]
  },
  {
   "cell_type": "code",
   "execution_count": 181,
   "metadata": {},
   "outputs": [],
   "source": [
    "# train logicstic regression\n",
    "\n",
    "from sklearn.linear_model import LogisticRegression\n",
    "\n",
    "tfidf_model = LogisticRegression(C=0.1).fit(X_train_tfidf, y_train)"
   ]
  },
  {
   "cell_type": "code",
   "execution_count": 182,
   "metadata": {},
   "outputs": [
    {
     "name": "stdout",
     "output_type": "stream",
     "text": [
      "Model accuracy: 0.780\n",
      "Well done!\n"
     ]
    },
    {
     "data": {
      "image/png": "[encoded data removed]",
      "text/plain": [
       "<Figure size 640x480 with 1 Axes>"
      ]
     },
     "metadata": {},
     "output_type": "display_data"
    }
   ],
   "source": [
    "from sklearn.metrics import roc_auc_score, roc_curve\n",
    "\n",
    "for name, X, y, model in [\n",
    "    ('train', X_train_tfidf, y_train, tfidf_model),\n",
    "    ('test ', X_test_tfidf, y_test, tfidf_model)\n",
    "]:\n",
    "    proba = model.predict_proba(X)[:, 1]\n",
    "    auc = roc_auc_score(y, proba)\n",
    "    plt.plot(*roc_curve(y, proba)[:2], label='%s AUC=%.4f' % (name, auc))\n",
    "\n",
    "plt.plot([0, 1], [0, 1], '--', color='black',)\n",
    "plt.legend(fontsize='large')\n",
    "plt.grid()\n",
    "\n",
    "test_accuracy = np.mean(tfidf_model.predict(X_test_tfidf) == y_test)\n",
    "print(f\"Model accuracy: {test_accuracy:.3f}\")\n",
    "assert test_accuracy > 0.77, \"Hint: tune the parameter C to improve performance\"\n",
    "print(\"Well done!\")"
   ]
  },
  {
   "cell_type": "markdown",
   "metadata": {},
   "source": [
    "```\n",
    "\n",
    "```\n",
    "\n",
    "```\n",
    "\n",
    "```\n",
    "\n",
    "```\n",
    "\n",
    "```\n",
    "\n",
    "```\n",
    "\n",
    "```\n",
    "\n",
    "```\n",
    "\n",
    "```\n",
    "\n",
    "```\n",
    "\n",
    "```\n",
    "\n",
    "```\n",
    "\n",
    "```\n",
    "\n",
    "```\n",
    "\n",
    "```\n",
    "\n",
    "\n",
    "### Solving it better: word vectors\n",
    "\n",
    "Let's try another approach: instead of counting per-word frequencies, we shall map all words to pre-trained word vectors and average over them to get text features.\n",
    "\n",
    "This should give us two key advantages: (1) we now have 10^2 features instead of 10^4 and (2) our model can generalize to word that are not in training dataset.\n",
    "\n",
    "We begin with a standard approach with pre-trained word vectors. However, you may also try\n",
    "* training embeddings from scratch on relevant (unlabeled) data\n",
    "* multiplying word vectors by inverse word frequency in dataset (like tf-idf).\n",
    "* concatenating several embeddings\n",
    "    * call `gensim.downloader.info()['models'].keys()` to get a list of available models\n",
    "* clusterizing words by their word-vectors and try bag of cluster_ids\n",
    "\n",
    "__Note:__ loading pre-trained model may take a while. It's a perfect opportunity to refill your cup of tea/coffee and grab some extra cookies. Or binge-watch some tv series if you're slow on internet connection"
   ]
  },
  {
   "cell_type": "code",
   "execution_count": 183,
   "metadata": {
    "collapsed": true,
    "scrolled": false
   },
   "outputs": [
    {
     "name": "stdout",
     "output_type": "stream",
     "text": [
      "[==================================================] 100.0% 958.5/958.4MB downloaded\n"
     ]
    }
   ],
   "source": [
    "import gensim.downloader \n",
    "embeddings = gensim.downloader.load(\"fasttext-wiki-news-subwords-300\")\n",
    "\n",
    "# If you're low on RAM or download speed, use \"glove-wiki-gigaword-100\" instead. Ignore all further asserts."
   ]
  },
  {
   "cell_type": "code",
   "execution_count": 212,
   "metadata": {
    "collapsed": true
   },
   "outputs": [],
   "source": [
    "def vectorize_sum(comment):\n",
    "    \"\"\"\n",
    "    implement a function that converts preprocessed comment to a sum of token vectors\n",
    "    \"\"\"\n",
    "    zeros_base = np.zeros(embeddings.vector_size).reshape(1, -1)\n",
    "    features = np.array([embeddings.get_vector(token) for token in comment.split() if token in embeddings]).reshape(-1, 300)\n",
    "    features = np.concatenate([zeros_base, features], axis=0).sum(axis=0)\n",
    "    \n",
    "    return features\n",
    "\n",
    "assert np.allclose(\n",
    "    vectorize_sum(\"who cares anymore . they attack with impunity .\")[::70],\n",
    "    np.array([ 0.0108616 ,  0.0261663 ,  0.13855131, -0.18510573, -0.46380025])\n",
    ")"
   ]
  },
  {
   "cell_type": "code",
   "execution_count": 218,
   "metadata": {
    "collapsed": true
   },
   "outputs": [],
   "source": [
    "X_train_wv = np.stack([vectorize_sum(text) for text in texts_train])\n",
    "X_test_wv = np.stack([vectorize_sum(text) for text in texts_test])"
   ]
  },
  {
   "cell_type": "code",
   "execution_count": 220,
   "metadata": {},
   "outputs": [
    {
     "name": "stderr",
     "output_type": "stream",
     "text": [
      "d:\\courses\\YandexNLP\\venv\\lib\\site-packages\\sklearn\\linear_model\\_logistic.py:460: ConvergenceWarning: lbfgs failed to converge (status=1):\n",
      "STOP: TOTAL NO. of ITERATIONS REACHED LIMIT.\n",
      "\n",
      "Increase the number of iterations (max_iter) or scale the data as shown in:\n",
      "    https://scikit-learn.org/stable/modules/preprocessing.html\n",
      "Please also refer to the documentation for alternative solver options:\n",
      "    https://scikit-learn.org/stable/modules/linear_model.html#logistic-regression\n",
      "  n_iter_i = _check_optimize_result(\n"
     ]
    },
    {
     "data": {
      "image/png": "[encoded data removed]",
      "text/plain": [
       "<Figure size 640x480 with 1 Axes>"
      ]
     },
     "metadata": {},
     "output_type": "display_data"
    }
   ],
   "source": [
    "wv_model = LogisticRegression().fit(X_train_wv, y_train)\n",
    "\n",
    "for name, X, y, model in [\n",
    "    ('bow train', X_train_bow, y_train, bow_model),\n",
    "    ('bow test ', X_test_bow, y_test, bow_model),\n",
    "    ('vec train', X_train_wv, y_train, wv_model),\n",
    "    ('vec test ', X_test_wv, y_test, wv_model)\n",
    "]:\n",
    "    proba = model.predict_proba(X)[:, 1]\n",
    "    auc = roc_auc_score(y, proba)\n",
    "    plt.plot(*roc_curve(y, proba)[:2], label='%s AUC=%.4f' % (name, auc))\n",
    "\n",
    "plt.plot([0, 1], [0, 1], '--', color='black',)\n",
    "plt.legend(fontsize='large')\n",
    "plt.grid()\n",
    "\n",
    "assert roc_auc_score(y_test, wv_model.predict_proba(X_test_wv)[:, 1]) > 0.92, \"something's wrong with your features\""
   ]
  },
  {
   "cell_type": "markdown",
   "metadata": {},
   "source": [
    "If everything went right, you've just managed to reduce misclassification rate by a factor of two.\n",
    "This trick is very useful when you're dealing with small datasets. However, if you have hundreds of thousands of samples, there's a whole different range of methods for that. We'll get there in the second part."
   ]
  }
 ],
 "metadata": {
  "kernelspec": {
   "display_name": "Python 3",
   "language": "python",
   "name": "python3"
  },
  "language_info": {
   "codemirror_mode": {
    "name": "ipython",
    "version": 3
   },
   "file_extension": ".py",
   "mimetype": "text/x-python",
   "name": "python",
   "nbconvert_exporter": "python",
   "pygments_lexer": "ipython3",
   "version": "3.10.9"
  }
 },
 "nbformat": 4,
 "nbformat_minor": 2
}
